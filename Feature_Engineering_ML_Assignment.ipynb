{
  "nbformat": 4,
  "nbformat_minor": 0,
  "metadata": {
    "colab": {
      "provenance": []
    },
    "kernelspec": {
      "name": "python3",
      "display_name": "Python 3"
    },
    "language_info": {
      "name": "python"
    }
  },
  "cells": [
    {
      "cell_type": "markdown",
      "source": [
        "# Feature Engineering"
      ],
      "metadata": {
        "id": "5YHmvElzZreQ"
      }
    },
    {
      "cell_type": "markdown",
      "source": [
        "**1. What is a parameter?**\n",
        "\n",
        "**Answer:**\n",
        "\n",
        "A parameter is a numerical value that summarizes or defines a characteristic of a population in statistics or a model in machine learning.\n",
        "\n",
        "In statistics, a parameter could be the population mean (μ) or standard deviation (σ).\n",
        "\n",
        "In machine learning, parameters are the internal variables the model learns, such as weights and biases in a neural network.\n",
        "\n",
        "**Example:**\n",
        "\n",
        "y=mx+c\n",
        "\n",
        "In a linear regression model\n",
        "\n",
        "m and\n",
        "𝑐\n",
        "c are parameters that determine the slope and intercept of the line."
      ],
      "metadata": {
        "id": "dnRZ0rO9aUrb"
      }
    },
    {
      "cell_type": "markdown",
      "source": [
        "**2. What is correlation?**\n",
        "\n",
        "**Answer:**\n",
        "\n",
        "Correlation measures the strength and direction of a linear relationship between two variables.\n",
        "\n",
        "It shows how one variable changes when another variable changes.\n",
        "\n",
        "The correlation coefficient (usually denoted as r) ranges between:\n",
        "\n",
        "* +1 → Perfect positive correlation\n",
        "\n",
        "* 0 → No correlation\n",
        "\n",
        "* −1 → Perfect negative correlation\n",
        "\n",
        "**Example:**\n",
        "\n",
        "Height and weight usually have a **positive correlation** — as height increases, weight tends to increase."
      ],
      "metadata": {
        "id": "ZqPQLp7EbMN7"
      }
    },
    {
      "cell_type": "markdown",
      "source": [
        "**What does negative correlation mean?**\n",
        "\n",
        "**Answer:**\n",
        "\n",
        "A negative correlation means that as one variable increases, the other decreases.\n",
        "\n",
        "The correlation coefficient is less than 0.\n",
        "\n",
        "**Example:**\n",
        "\n",
        "As the price of a product increases, the demand often decreases.\n",
        "\n",
        "So, price and demand have a negative correlation."
      ],
      "metadata": {
        "id": "NZK2XIV5cNMg"
      }
    },
    {
      "cell_type": "markdown",
      "source": [
        "**3. Define Machine Learning. What are the main components in Machine Learning?**\n",
        "\n",
        "**Answer:**\n",
        "\n",
        "**Definition:**\n",
        "\n",
        "Machine Learning (ML) is a branch of Artificial Intelligence that enables systems to learn from data and make predictions or decisions without being explicitly programmed.\n",
        "\n",
        "**Main components of Machine Learning:**\n",
        "\n",
        "**Data** – The information used for training and testing the model.\n",
        "\n",
        "**Model** – The mathematical structure that learns from data (e.g., decision tree, neural network).\n",
        "\n",
        "**Algorithm** – The method used to train the model (e.g., linear regression, gradient descent).\n",
        "\n",
        "**Loss Function** – Measures how well or poorly the model performs.\n",
        "\n",
        "**Optimization** – Adjusts model parameters to minimize loss (e.g., using gradient descent).\n",
        "\n",
        "**Evaluation** – Tests model performance on unseen data using metrics (e.g., accuracy, RMSE)."
      ],
      "metadata": {
        "id": "PXdfKz_5cpyw"
      }
    },
    {
      "cell_type": "markdown",
      "source": [
        "**4. How does loss value help in determining whether the model is good or not?**\n",
        "\n",
        "**Answer:**\n",
        "\n",
        "The loss value (or cost) measures the difference between the model’s predictions and the actual values.\n",
        "\n",
        "A low loss value → model predictions are close to the true values → good model.\n",
        "\n",
        "A high loss value → model predictions are far from the true values → poor model.\n",
        "\n",
        "**Example:**\n",
        "\n",
        "In linear regression, the Mean Squared Error (MSE) is used as a loss function:\n",
        "\n",
        "\n",
        "$$\n",
        "MSE = \\frac{1}{n} \\sum_{i=1}^{n} (y_i - \\hat{y_i})^2\n",
        "$$\n",
        "\n",
        "A smaller MSE means the model fits the data better."
      ],
      "metadata": {
        "id": "Dxxy3_MsdkZj"
      }
    },
    {
      "cell_type": "markdown",
      "source": [
        "**5. What are continuous and categorical variables?**\n",
        "\n",
        "\n",
        "**Answer:**\n",
        "\n",
        "\n",
        "**Continuous Variables**\n",
        "\n",
        "* Continuous variables can take any numeric value within a given range.\n",
        "\n",
        "* They have infinite possible values between two points.\n",
        "\n",
        "* Usually represent measurable quantities.\n",
        "\n",
        "* Can be decimal or fractional values.\n",
        "\n",
        "**Examples**:\n",
        "\n",
        "Height, Weight, Temperature, Age, Salary.\n",
        "\n",
        "**Categorical Variables**\n",
        "\n",
        "* Categorical variables represent categories or groups instead of numeric values.\n",
        "\n",
        "* They have a limited number of possible values or labels.\n",
        "\n",
        "* Usually represent qualitative data.\n",
        "\n",
        "Can be of two types:\n",
        "\n",
        "**Nominal** (no natural order, e.g., Gender, Color).\n",
        "\n",
        "**Ordinal** (have an order, e.g., Education level: High School < College < University).\n",
        "\n",
        "**Examples:**\n",
        "\n",
        "Gender (Male/Female), Color (Red/Blue/Green), Yes/No."
      ],
      "metadata": {
        "id": "DlWJgt6ofUBp"
      }
    },
    {
      "cell_type": "markdown",
      "source": [
        "**6. How do we handle categorical variables in Machine Learning? What are the common techniques?**\n",
        "\n",
        "\n",
        "Categorical variables must be converted into numerical form before feeding them to ML models.\n",
        "\n",
        "**Common techniques:**\n",
        "\n",
        "**Label Encoding** –\n",
        "Converts each category into an integer label.\n",
        "\n",
        "**Example:**\n",
        "\n",
        "Red → 0, Blue → 1, Green → 2\n",
        "\n",
        "\n",
        "Used when categories have an order (ordinal data).\n",
        "\n",
        "**One-Hot Encoding** –\n",
        "Creates separate binary columns for each category.\n",
        "\n",
        "**Example**:\n",
        "\n",
        "Color_Red, Color_Blue, Color_Green → [1,0,0], [0,1,0], [0,0,1]\n",
        "\n",
        "\n",
        "Used for nominal (unordered) categories.\n",
        "\n",
        "**Ordinal Encoding** –\n",
        "Assigns numbers based on rank or order (e.g., Small = 1, Medium = 2, Large = 3).\n",
        "\n",
        "**Target Encoding** –\n",
        "Replaces each category with the mean of the target variable for that category.\n",
        "\n",
        "**Binary Encoding / Frequency Encoding** –\n",
        "Used when there are many categories to reduce dimensionality."
      ],
      "metadata": {
        "id": "Mz82yuKChUzW"
      }
    },
    {
      "cell_type": "markdown",
      "source": [
        "**7. What do you mean by training and testing a dataset?**\n",
        "\n",
        "\n",
        "**Answer:**\n",
        "\n",
        "The dataset is divided into two parts:\n",
        "\n",
        "**Training Set:** Used to train the model — the model learns relationships between input features and output labels.\n",
        "\n",
        "**Testing Set:** Used to evaluate how well the model performs on unseen data.\n",
        "\n",
        "**Purpose**:\n",
        "\n",
        "Training set → teach the model.\n",
        "\n",
        "Testing set → check how well it generalizes.\n",
        "\n",
        "**Example**:\n",
        "\n",
        "If you have 1000 samples:\n",
        "\n",
        "80% (800) → Training\n",
        "\n",
        "20% (200) → Testing"
      ],
      "metadata": {
        "id": "gYERdeoyh63x"
      }
    },
    {
      "cell_type": "markdown",
      "source": [
        "**8. What is sklearn.preprocessing?**\n",
        "\n",
        "**Answer:**\n",
        "\n",
        "sklearn.preprocessing is a module in Scikit-Learn that provides tools for data transformation before training a model.\n",
        "\n",
        "It ensures that all features are in the right format and scale.\n",
        "\n",
        "**Common functions include:**\n",
        "\n",
        "* StandardScaler() → Standardizes features (mean = 0, std = 1)\n",
        "\n",
        "* MinMaxScaler() → Scales values to a fixed range (usually 0–1)\n",
        "\n",
        "* LabelEncoder() → Encodes labels as integers\n",
        "\n",
        "* OneHotEncoder() → Converts categorical features to binary vectors\n",
        "\n",
        "**Example:**\n",
        "\n",
        "\n",
        "from sklearn.preprocessing import StandardScaler\n",
        "\n",
        "scaler = StandardScaler()\n",
        "\n",
        "X_scaled = scaler.fit_transform(X)\n",
        "\n"
      ],
      "metadata": {
        "id": "FbRlokqDiw0e"
      }
    },
    {
      "cell_type": "markdown",
      "source": [
        "**9. What is a Test Set?**\n",
        "\n",
        "\n",
        "* A Test Set is a portion of the dataset kept aside from training.\n",
        "\n",
        "* It is used after training to check the model’s performance and accuracy.\n",
        "\n",
        "* The goal is to see how well the model generalizes to new, unseen data.\n",
        "\n",
        "* Important: The test set should never be used during model training."
      ],
      "metadata": {
        "id": "aEi-mXmJjgKC"
      }
    },
    {
      "cell_type": "markdown",
      "source": [
        "**10. How do we split data for model fitting (training and testing) in Python? How do you approach a Machine Learning problem?**\n",
        "\n",
        "**Answer:**\n",
        "\n",
        "**(A) Splitting Data in Python**\n",
        "\n",
        "Use Scikit-Learn’s train_test_split() function:\n",
        "\n",
        "from sklearn.model_selection import train_test_split\n",
        "\n",
        "X_train, X_test, y_train, y_test = train_test_split(\n",
        "    X, y, test_size=0.2, random_state=42)\n",
        "\n",
        "\n",
        "test_size=0.2 → 20% for testing\n",
        "\n",
        "random_state → ensures reproducibility\n",
        "\n",
        "\n",
        "**(B) Approach to a Machine Learning Problem**\n",
        "\n",
        "**Define the Problem** – Understand the business or research goal.\n",
        "\n",
        "**Collect Data** – Gather relevant, clean, and sufficient data.\n",
        "\n",
        "**Preprocess Data** – Handle missing values, encode categorical variables, and scale features.\n",
        "\n",
        "**Split Data** – Divide into training and testing sets.\n",
        "\n",
        "**Select Model** – Choose an appropriate algorithm (e.g., Linear Regression, Decision Tree).\n",
        "\n",
        "**Train Model** – Fit the model on the training data.\n",
        "\n",
        "**Evaluate Model** – Test on the test set using metrics (e.g., accuracy, RMSE).\n",
        "\n",
        "**Tune Parameters** – Optimize hyperparameters for better performance.\n",
        "\n",
        "**Deploy & Monitor** – Deploy the model and track real-world performance."
      ],
      "metadata": {
        "id": "yaMoHphEjyW5"
      }
    },
    {
      "cell_type": "markdown",
      "source": [
        "**11. Why do we have to perform EDA before fitting a model to the data?**\n",
        "\n",
        "EDA (Exploratory Data Analysis) is the process of understanding, summarizing, and visualizing data before building a model.\n",
        "\n",
        "**Reasons to perform EDA:**\n",
        "\n",
        "* To understand data distribution (mean, median, variance, etc.).\n",
        "\n",
        "* To identify missing values, outliers, and errors in data.\n",
        "\n",
        "* To understand relationships between variables.\n",
        "\n",
        "* To detect correlations and redundant features.\n",
        "\n",
        "* To decide which preprocessing steps (e.g., encoding, scaling) are needed.\n",
        "\n",
        "* To select the right model or algorithm based on data characteristics.\n",
        "\n",
        "* Helps ensure that the model is built on clean, meaningful, and relevant data."
      ],
      "metadata": {
        "id": "fAKpmk1ulV4r"
      }
    },
    {
      "cell_type": "markdown",
      "source": [
        "**12. What is correlation?**\n",
        "\n",
        "**Answer:**\n",
        "\n",
        "Correlation measures the strength and direction of a linear relationship between two variables.\n",
        "\n",
        "The correlation value (r) lies between –1 and +1:\n",
        "\n",
        "* +1: Perfect positive correlation\n",
        "\n",
        "* 0: No correlation\n",
        "\n",
        "* –1: Perfect negative correlation\n",
        "\n",
        "It tells how one variable changes with respect to another.\n",
        "\n",
        "**Example:**\n",
        "\n",
        "As temperature increases, ice cream sales increase → positive correlation."
      ],
      "metadata": {
        "id": "RJyMS7rNl_2I"
      }
    },
    {
      "cell_type": "markdown",
      "source": [
        "**13. What does negative correlation mean?**\n",
        "\n",
        "**Answer:**\n",
        "\n",
        "A negative correlation means that as one variable increases, the other decreases.\n",
        "\n",
        "The correlation coefficient (r) is less than 0.\n",
        "\n",
        "Indicates an inverse relationship between variables.\n",
        "\n",
        "**Example:**\n",
        "\n",
        "As the price of a product increases, demand often decreases.\n",
        "→ Negative correlation."
      ],
      "metadata": {
        "id": "2Gt7MAaKmQQs"
      }
    },
    {
      "cell_type": "markdown",
      "source": [
        "**14. How can you find correlation between variables in Python?**\n",
        "\n",
        "**Answer:**\n",
        "\n",
        "You can use the Pandas and Seaborn libraries to find and visualize correlations."
      ],
      "metadata": {
        "id": "UIEEjGW-meuG"
      }
    },
    {
      "cell_type": "code",
      "source": [
        "import pandas as pd\n",
        "import seaborn as sns\n",
        "import matplotlib.pyplot as plt\n",
        "\n",
        "# Sample dataset\n",
        "data = {'Height': [160, 165, 170, 175, 180],\n",
        "        'Weight': [55, 60, 65, 72, 80]}\n",
        "\n",
        "df = pd.DataFrame(data)\n",
        "\n",
        "# Calculate correlation matrix\n",
        "corr_matrix = df.corr()\n",
        "print(corr_matrix)\n",
        "\n",
        "# Visualize correlation as a heatmap\n",
        "sns.heatmap(corr_matrix, annot=True, cmap='coolwarm')\n",
        "plt.show()\n"
      ],
      "metadata": {
        "colab": {
          "base_uri": "https://localhost:8080/",
          "height": 487
        },
        "id": "FrXjW2H0kb-d",
        "outputId": "ec06d305-d423-4c73-cdfa-1a6740d16cf4"
      },
      "execution_count": null,
      "outputs": [
        {
          "output_type": "stream",
          "name": "stdout",
          "text": [
            "          Height    Weight\n",
            "Height  1.000000  0.993814\n",
            "Weight  0.993814  1.000000\n"
          ]
        },
        {
          "output_type": "display_data",
          "data": {
            "text/plain": [
              "<Figure size 640x480 with 2 Axes>"
            ],
            "image/png": "[encoded data removed]"
          },
          "metadata": {}
        }
      ]
    },
    {
      "cell_type": "markdown",
      "source": [
        "**Output:**\n",
        "\n",
        "Displays a correlation matrix (e.g., Height vs Weight = 0.98 → strong positive correlation).\n",
        "\n",
        "Heatmap helps visualize the strength of relationships."
      ],
      "metadata": {
        "id": "7fCFwWb_mudx"
      }
    },
    {
      "cell_type": "markdown",
      "source": [
        "**15. What is causation? Explain the difference between correlation and causation with an example.**\n",
        "\n",
        "**Answer:**\n",
        "\n",
        "\n",
        "**Causation**:\n",
        "\n",
        "Causation means that one variable directly affects or causes a change in another.\n",
        "\n",
        "It implies a cause-and-effect relationship.\n",
        "\n",
        "**Difference Between Correlation and Causation:**\n",
        "\n",
        "\n",
        "**Correlation:**\n",
        "\n",
        "Measures the strength and direction of a relationship between two variables.\n",
        "\n",
        "Does not imply cause and effect.\n",
        "\n",
        "Two variables may move together due to coincidence or a third hidden factor.\n",
        "\n",
        "**Example**:\n",
        "\n",
        "Ice cream sales and drowning cases increase together during summer — both are related to temperature, not to each other.\n",
        "\n",
        "**Causation**:\n",
        "\n",
        "Indicates that one variable directly affects or causes a change in another.\n",
        "\n",
        "Implies a cause-and-effect relationship.\n",
        "\n",
        "Usually proven through experiments or controlled studies.\n",
        "\n",
        "**Example**:\n",
        "\n",
        "Increasing study hours causes higher test scores — here, study time directly influences the outcome."
      ],
      "metadata": {
        "id": "b_QWW3zSm-nU"
      }
    },
    {
      "cell_type": "markdown",
      "source": [
        "**16. What is an Optimizer? What are different types of optimizers? Explain each with an example.**\n",
        "\n",
        "\n",
        "**Answer:**\n",
        "\n",
        "An optimizer is an algorithm that adjusts model parameters (weights and biases) to minimize the loss function.\n",
        "\n",
        "It helps the model learn efficiently and improve performance during training.\n",
        "\n",
        "The goal is to find the optimal set of parameters that give the best predictions.\n",
        "\n",
        "\n",
        "**Common Types of Optimizers:**\n",
        "\n",
        "**1. Gradient Descent (GD)**:\n",
        "\n",
        "Calculates the gradient (slope) of the loss function and updates parameters in the opposite direction of the gradient.\n",
        "\n",
        "**Formula:**\n",
        "\n",
        "\n",
        "The general formula for Gradient Descent is:\n",
        "\n",
        "$$\n",
        "\\theta = \\theta - \\alpha \\cdot \\frac{\\partial J}{\\partial \\theta}\n",
        "$$\n",
        "\t​\n",
        "\n",
        "\n",
        "**Example:** Used in Linear Regression to find best-fit line.\n",
        "\n",
        "**2. Stochastic Gradient Descent (SGD):**\n",
        "\n",
        "Updates weights after each training sample instead of the whole dataset.\n",
        "\n",
        "Faster but more noisy.\n",
        "\n",
        "**Example:** Used in online learning or large datasets.\n",
        "\n",
        "**3. Mini-Batch Gradient Descent:**\n",
        "\n",
        "Uses a subset (batch) of data for each weight update.\n",
        "\n",
        "Balances between GD and SGD.\n",
        "\n",
        "**Example:** Commonly used in deep learning models.\n",
        "\n",
        "**4. Momentum Optimizer:**\n",
        "\n",
        "Adds a “momentum” term to accelerate learning in the right direction and reduce oscillation.\n",
        "\n",
        "**Example**: Used in CNNs for faster convergence.\n",
        "\n",
        "**5. Adam Optimizer (Adaptive Moment Estimation):**\n",
        "\n",
        "Combines momentum and adaptive learning rate ideas.\n",
        "\n",
        "Automatically adjusts learning rates for each parameter.\n",
        "\n",
        "**Example**: Widely used in deep learning (TensorFlow, PyTorch)."
      ],
      "metadata": {
        "id": "tRvPoB7HAbVO"
      }
    },
    {
      "cell_type": "markdown",
      "source": [
        "**17. What is sklearn.linear_model?**\n",
        "\n",
        "**Answer:**\n",
        "\n",
        "sklearn.linear_model is a module in Scikit-Learn containing linear-based machine learning algorithms.\n",
        "\n",
        "\n",
        "*   List item\n",
        "*   List item\n",
        "\n",
        "\n",
        "It is used for regression and classification problems.\n",
        "\n",
        "**Common classes include:**\n",
        "\n",
        "* LinearRegression → for predicting continuous values.\n",
        "\n",
        "* LogisticRegression → for binary/multi-class classification.\n",
        "\n",
        "* Ridge, Lasso → for regularized regression.\n",
        "\n",
        "**Example:**\n",
        "\n",
        "from sklearn.linear_model import LinearRegression\n",
        "\n",
        "model = LinearRegression()\n",
        "model.fit(X_train, y_train)"
      ],
      "metadata": {
        "id": "fMPVSLEhB3nM"
      }
    },
    {
      "cell_type": "markdown",
      "source": [
        "**18. What does model.fit() do? What arguments must be given?**\n",
        "\n",
        "**Answer:**\n",
        "\n",
        "The fit() method is used to train the model using the training data.\n",
        "\n",
        "It learns the relationship between features (X) and target variable (y) by optimizing model parameters.\n",
        "\n",
        "**Syntax:**\n",
        "\n",
        "model.fit(X_train, y_train)\n",
        "\n",
        "\n",
        "**Arguments:**\n",
        "\n",
        "X_train: Input features (independent variables).\n",
        "\n",
        "y_train: Output labels (dependent variable).\n",
        "\n",
        "**Example:**\n",
        "\n",
        "model.fit(X_train, y_train)\n",
        "\n",
        "\n",
        "After fitting, the model is ready to make predictions."
      ],
      "metadata": {
        "id": "e5M3YNi-Cgup"
      }
    },
    {
      "cell_type": "markdown",
      "source": [
        "**19. What does model.predict() do? What arguments must be given?**\n",
        "\n",
        "**Answer:**\n",
        "\n",
        "The predict() method uses the trained model to make predictions on new or unseen data.\n",
        "\n",
        "It applies the learned relationships from training to estimate outputs.\n",
        "\n",
        "**Syntax:**\n",
        "\n",
        "y_pred = model.predict(X_test)\n",
        "\n",
        "\n",
        "**Arguments:**\n",
        "\n",
        "X_test: Input features for which predictions are required.\n",
        "\n",
        "**Example**\n",
        "\n",
        "y_pred = model.predict(X_test)\n",
        "\n",
        "\n",
        "The output (y_pred) contains the model’s predicted values."
      ],
      "metadata": {
        "id": "l3fhBjwtDGGc"
      }
    },
    {
      "cell_type": "markdown",
      "source": [
        "**20. What are continuous and categorical variables?**\n",
        "\n",
        "**Answer:**\n",
        "\n",
        "**Continuous Variables:**\n",
        "\n",
        "Can take any numeric value within a range.\n",
        "\n",
        "Represent measurable quantities.\n",
        "\n",
        "Can include decimal values.\n",
        "\n",
        "**Examples**: Height, Weight, Temperature, Salary, Age\n",
        "\n",
        "Categorical Variables:\n",
        "\n",
        "Represent categories or groups instead of numeric values.\n",
        "\n",
        "Have a limited number of possible values.\n",
        "\n",
        "Represent qualitative data.\n",
        "\n",
        "Can be of two types:\n",
        "\n",
        "**Nominal:** No order (e.g., Color, Gender).\n",
        "\n",
        "**Ordinal:** Have order (e.g., Education level: High < Medium < High).\n",
        "\n",
        "**Examples:** Gender (Male/Female), Color (Red/Blue/Green), Yes/No"
      ],
      "metadata": {
        "id": "Vm-TyUxkDeyb"
      }
    },
    {
      "cell_type": "markdown",
      "source": [
        "**21. What is Feature Scaling? How does it help in Machine Learning?**\n",
        "\n",
        "**Answer:**\n",
        "\n",
        "**Definition:**\n",
        "\n",
        "Feature Scaling is the process of normalizing or standardizing the range of independent variables (features) in a dataset.\n",
        "\n",
        "It ensures that all features contribute equally to the model’s learning process.\n",
        "\n",
        "**Why It’s Important:**\n",
        "\n",
        "* Many ML algorithms (like Linear Regression, KNN, SVM, Gradient Descent) are sensitive to the scale of features.\n",
        "\n",
        "* Features with larger values can dominate those with smaller ranges.\n",
        "\n",
        "* Scaling helps the model converge faster and improves accuracy\n",
        "\n",
        "**Example**\n",
        "\n",
        "| Feature | Before Scaling      | After Scaling    |\n",
        "| ------- | ------------------- | ---------------- |\n",
        "| Age     | 25, 35, 45          | 0.2, 0.4, 0.6    |\n",
        "| Income  | 20000, 50000, 80000 | 0.25, 0.625, 1.0 |\n"
      ],
      "metadata": {
        "id": "U6AYACgHEL5K"
      }
    },
    {
      "cell_type": "markdown",
      "source": [
        "**22. How do we perform scaling in Python?**\n",
        "\n",
        "**Answer:**\n",
        "\n",
        "You can perform scaling using Scikit-learn’s preprocessing module.\n",
        "\n",
        "Example – Standardization (Z-score Scaling):\n",
        "from sklearn.preprocessing import StandardScaler\n",
        "\n",
        "scaler = StandardScaler()\n",
        "X_scaled = scaler.fit_transform(X)\n",
        "\n",
        "\n",
        "Scales features so that:\n",
        "\n",
        "mean=0,standard deviation=1\n",
        "\n",
        "**Example** –\n",
        "\n",
        "Normalization (Min-Max Scaling):\n",
        "\n",
        "Scales features to a range of [0, 1].\n",
        "\n",
        "**Code**\n",
        "\n",
        "from sklearn.preprocessing import MinMaxScaler\n",
        "\n",
        "scaler = MinMaxScaler()\n",
        "\n",
        "X_scaled = scaler.fit_transform(X)"
      ],
      "metadata": {
        "id": "t05nK0elEwUT"
      }
    },
    {
      "cell_type": "markdown",
      "source": [
        "**23. What is sklearn.preprocessing?**\n",
        "\n",
        "**Answer:**\n",
        "\n",
        "sklearn.preprocessing is a module in Scikit-Learn used for data transformation before training.\n",
        "\n",
        "It provides tools for scaling, encoding, normalizing, and feature extraction.\n",
        "\n",
        "**Common Functions:**\n",
        "\n",
        "| Function           | Purpose                                        |\n",
        "| ------------------ | ---------------------------------------------- |\n",
        "| `StandardScaler()` | Standardizes features (mean = 0, std = 1)      |\n",
        "| `MinMaxScaler()`   | Scales data to range [0, 1]                    |\n",
        "| `LabelEncoder()`   | Converts category labels to numbers            |\n",
        "| `OneHotEncoder()`  | Converts categorical data to binary matrix     |\n",
        "| `Binarizer()`      | Converts values to 0 or 1 based on a threshold |\n"
      ],
      "metadata": {
        "id": "-n7NzXaRFWI6"
      }
    },
    {
      "cell_type": "code",
      "source": [
        "from sklearn.preprocessing import StandardScaler\n",
        "scaler = StandardScaler()\n",
        "X_scaled = scaler.fit_transform(X)"
      ],
      "metadata": {
        "id": "x2jbNv04FOi0"
      },
      "execution_count": null,
      "outputs": []
    },
    {
      "cell_type": "markdown",
      "source": [
        "**24. How do we split data for model fitting (training and testing) in Python?**\n",
        "\n",
        "**Answer:**\n",
        "\n",
        "You can use the train_test_split() function from sklearn.model_selection.\n",
        "\n",
        "**Example**:\n",
        "from sklearn.model_selection import train_test_split\n",
        "\n",
        "X_train, X_test, y_train, y_test = train_test_split(\n",
        "    X, y, test_size=0.2, random_state=42)\n",
        "\n",
        "**Explanation**:\n",
        "\n",
        "X → Features (input variables)\n",
        "\n",
        "y → Target (output variable)\n",
        "\n",
        "test_size=0.2 → 20% data for testing, 80% for training\n",
        "\n",
        "random_state → ensures reproducibility\n",
        "\n",
        "**Purpose**:\n",
        "* Training set → to train the model\n",
        "\n",
        "*  Test set → to evaluate performance on unseen data"
      ],
      "metadata": {
        "id": "zpDz-GRMGHIq"
      }
    },
    {
      "cell_type": "markdown",
      "source": [
        "**25. Explain Data Encoding**\n",
        "\n",
        "**Answer:**\n",
        "\n",
        "\n",
        "**Definition**\n",
        "\n",
        "Data Encoding converts categorical (text-based) variables into numeric form so that ML models can process them.\n",
        "\n",
        "Since most algorithms work with numerical inputs, encoding is an essential preprocessing step.\n",
        "\n",
        "**Common Encoding Techniques**\n",
        "\n",
        "**Label Encoding**\n",
        "\n",
        "Converts each category into a unique integer.\n",
        "\n",
        "**Example**:\n",
        "\n",
        "Red → 0, Blue → 1, Green → 2\n",
        "\n",
        "\n",
        "Used for ordinal data (where order matters).\n",
        "\n",
        "**One-Hot Encoding**\n",
        "\n",
        "Creates separate binary columns for each category.\n",
        "\n",
        "Example:\n",
        "\n",
        "Color_Red | Color_Blue | Color_Green\n",
        "   1      |     0      |     0\n",
        "\n",
        "\n",
        "Used for nominal data (no order).\n",
        "\n",
        "**Ordinal Encoding**\n",
        "\n",
        "Assigns ordered values (e.g., Low = 1, Medium = 2, High = 3).\n",
        "\n",
        "**Target / Mean Encoding**\n",
        "\n",
        "Replaces each category with the average of the target variable for that category.\n",
        "\n",
        "Example in Python:"
      ],
      "metadata": {
        "id": "IyVCNFycGf9u"
      }
    },
    {
      "cell_type": "code",
      "source": [
        "from sklearn.preprocessing import LabelEncoder, OneHotEncoder\n",
        "import pandas as pd\n",
        "\n",
        "data = pd.DataFrame({'Color': ['Red', 'Blue', 'Green']})\n",
        "\n",
        "# Label Encoding\n",
        "le = LabelEncoder()\n",
        "data['Color_Label'] = le.fit_transform(data['Color'])\n",
        "\n",
        "# One-Hot Encoding\n",
        "data = pd.get_dummies(data, columns=['Color'])\n",
        "print(data)\n",
        "\n"
      ],
      "metadata": {
        "colab": {
          "base_uri": "https://localhost:8080/"
        },
        "id": "rUNGnPvNGU13",
        "outputId": "4fcd4084-5921-4ffe-a467-7cbace23aef6"
      },
      "execution_count": null,
      "outputs": [
        {
          "output_type": "stream",
          "name": "stdout",
          "text": [
            "   Color_Label  Color_Blue  Color_Green  Color_Red\n",
            "0            2       False        False       True\n",
            "1            0        True        False      False\n",
            "2            1       False         True      False\n"
          ]
        }
      ]
    },
    {
      "cell_type": "code",
      "source": [],
      "metadata": {
        "id": "dYy94AQjG_DB"
      },
      "execution_count": null,
      "outputs": []
    }
  ]
}