{
  "nbformat": 4,
  "nbformat_minor": 0,
  "metadata": {
    "colab": {
      "provenance": []
    },
    "kernelspec": {
      "name": "python3",
      "display_name": "Python 3"
    },
    "language_info": {
      "name": "python"
    }
  },
  "cells": [
    {
      "cell_type": "markdown",
      "source": [
        "**1. What is Python, and why is it popular?**\n",
        "```\n",
        "A. Python is high-level interpreted programming language known for its     simplicity, versatility, readability and rich ecosystem libraries.\n",
        "--> It is Popular because few key reasons like\n",
        "  i. simple and readable syntax --> It is easy to write and understand\n",
        "  ii.versatility --> It supports multiple programming paradigms (object oriented , functions, procedural programming)\n",
        "  iii.Standart Ecosystem and Libraries --> It has so many build in modules and third party libraries(NumPy, Pandas, MatPlotLib, seaborn, scikit-learn )\n",
        "  iv. Strong Community\n",
        "  v. cross-platform and open Source\n",
        "  vi. popular in Emerging fileds like Data Science, Artificial Intelligence\n",
        "      and Machine Learning, Automations\n",
        "```\n",
        "\n",
        "**2. What is an interpreter in Python?**\n",
        "```\n",
        "A. Python is a Interpreted Programming Language which means it reads and\n",
        "   executes the code line by line. When compared with other compiled languages\n",
        "  like c and java they convert code to machine code before the execution but in\n",
        "  python code is interpreted at run time.\n",
        "\n",
        "  -->It source code first converts in to bytecode then intrepreter executes\n",
        "     bytecode using PVM(Python Virtual Machine)\n",
        "\n",
        "```\n",
        "\n",
        "**3. What are pre-defined keywords in Python?**\n",
        "\n",
        "```\n",
        "A. Python keywords are predefined words  and a reserve words that has special meaning to the interpreter intrepreter. This are part of python syntax and cannot be used as varaible names, function names or identifiers\n",
        "\n",
        "They are used to define flow and structure of python program\n",
        "example:if, elif,else, def (functions), class and etc\n",
        "\n",
        "```\n",
        "\n",
        "**4. Can keywords be used as variable names?**\n",
        "```\n",
        "A. No Key words cannot be used as variable names. Keywords are\n",
        "   reserve words which can identified by interpreter. if we use keywords as variable the interpreter will confuse an throw an syntax errors\n",
        "```\n",
        "\n",
        "**5. What is mutability in Python?**\n",
        "\n",
        "```\n",
        "A. Mutability object is one whose state or content can be changed after\n",
        "   creation\n",
        "   Mutable Types are list, dict, set, bytearray\n",
        "\n",
        "   example:\n",
        "   --------\n",
        "   my_list = [1, 2, 3]\n",
        "   my_list[0] = 99\n",
        "   print(my_list)  //[99,2,3]   \n",
        "```\n",
        "\n",
        "**6. Why are lists mutable, but tuples are immutable?**\n",
        "\n",
        "```\n",
        "A. Lists - Lists  are mutable because itstore collection of items may change.\n",
        "   using some build in operations like append(), remove(), assignment can\n",
        "   modify object in place\n",
        "   \n",
        "   example:\n",
        "   my_list = [1, 2, 3]\n",
        "   my_list[0] = 99\n",
        "   print(my_list)  //[99,2,3]  \n",
        "\n",
        "   Tuples - Tuples are immutable because they are ment to represent fixed\n",
        "   collection of items. Omce they created it cannot be changed. This allows\n",
        "   them to hasable and used as dictionary keys or elements of set\n",
        "\n",
        "   example:\n",
        "   my_tuple = (1,2,3)\n",
        "   my_tuple[0] = 99// error object doesnt supports item assignment\n",
        "```\n",
        "\n",
        "**7. What is the difference between “==” and “is” operators in Python?**\n",
        "\n",
        "```\n",
        "A.  \"==\" is an comparision operator, it check 2 variable value are same or not\n",
        "    example:\n",
        "      a = 1\n",
        "      b = 1\n",
        "      print(a == b) // return True\n",
        "\n",
        "    \"is\" is an identity operator check 2 variables points to the same object in memory or not\n",
        "    example:\n",
        "      a = 1\n",
        "      b= a\n",
        "      print(a is b) // True\n",
        "\n",
        "      c = 1\n",
        "      print(a is c) // false because pointing different memory locations\n",
        "```\n",
        "\n",
        "**8. What are logical operators in Python?**\n",
        "\n",
        "```\n",
        "A. Logical Operators( and, or , not) are used to combine conditional\n",
        "   statements and return boolean Value(True / False) based on logic\n",
        "\n",
        "   --> These are of 3 types\n",
        "       1. and (ex: True and True = True)\n",
        "       2. or  (ex: True or False = True)\n",
        "       3. not (ex: not False = True)\n",
        "\n",
        "       x = 10\n",
        "       y = 20\n",
        "\n",
        "       print(x<15 and y> 15) // True\n",
        "       print(x>15 or y>15 ) // False\n",
        "       print(not(x>15)) // True\n",
        "```\n",
        "\n",
        "**9.What is type casting in Python?**\n",
        "\n",
        "```\n",
        "A. Converting one data type to another type is type casting. They are 2 types\n",
        "   of castings one is implicit and another one is explict\n",
        "   1)Implicit Type casting : converts automatically by python and happens when\n",
        "    no data loss occurs\n",
        "   \n",
        "   example:\n",
        "   x = 1\n",
        "   y = 2.5\n",
        "   z= x + y\n",
        "   print(z) // 3.5\n",
        "\n",
        "   2) Explicit Type casting: It done manually from one data type to another\n",
        "    using  functions like int(), float(),str(), etc. we will use explict type casting to avoid errors\n",
        "\n",
        "    example\n",
        "    x= \"1\"\n",
        "    y= 2\n",
        "    z= int(x)\n",
        "    print(y + z)//3\n",
        "```\n",
        "\n",
        "**10. What is the difference between implicit and explicit type casting?**\n",
        "\n",
        "```\n",
        "A.\n",
        "    1)Implicit Type casting :\n",
        "      -->converts automatically by python\n",
        "      -->no data loss occurs\n",
        "      -->Python converts smaller types to larger as needed\n",
        "   \n",
        "   example:\n",
        "   x = 1\n",
        "   y = 2.5\n",
        "   z= x + y\n",
        "   print(z) // 3.5\n",
        "\n",
        "   2) Explicit Type casting:\n",
        "   -->It done manually convert from one data type to another by programmer\n",
        "   -->data types are forcibly changed\n",
        "   -->using  functions like int(), float(),str()\n",
        "\n",
        "    example\n",
        "    x= \"1\"\n",
        "    y= 2\n",
        "    z= int(x)\n",
        "    print(y + z)//3\n",
        "```\n",
        "\n",
        "**11. What is the purpose of conditional statements in Python?**\n",
        "\n",
        "```\n",
        "A. Conditional statements will control the flow of execution based on whether\n",
        "   the condition is true or false\n",
        "   It will allow Program to make decisions and execute specific block of code\n",
        "   based on conditions\n",
        "\n",
        "   conditional statements which python provided are\n",
        "   1)if - execute the block if condition is true\n",
        "   2)elif - check another condition if previous condition if is false\n",
        "   3)else - execute this block if above conditions are false\n",
        "\n",
        " example:\n",
        "   marks = 85\n",
        "\n",
        "   if marks >= 90:\n",
        "       print(\"Grade - A\")\n",
        "   elif marks >=80:\n",
        "       print(\"Grade - B\")  \n",
        "   elif marks >=70:\n",
        "       print(\"Grade - c\")\n",
        "   elif marks >=60:\n",
        "       print(\"Grade - D\")  \n",
        "   else:\n",
        "       print(\"Grade - E\")\n",
        "\n",
        "```\n",
        "\n",
        "**12. How does the elif statement work?**\n",
        "\n",
        "```\n",
        "A. The elif statement is stands for \"else if\", and it allows you to\n",
        "   check multiple conditions one after another, after the initial if condition\n",
        "   \n",
        "  Example Flow of condition statements:\n",
        "  ------------------------------------\n",
        "  1) Python checks the if condition first.\n",
        "  2) If if is True, it executes the block and skips all elif and else.\n",
        "  3) If if is False, it checks the first elif.\n",
        "  4) If any elif is True, it runs that block and ignores the rest.\n",
        "  5) If none of the conditions are true, it executes the else block\n",
        "  \n",
        "  example:\n",
        "  ---------\n",
        "   temperature = 30\n",
        "\n",
        "    if temperature > 40:\n",
        "        print(\"It's very hot\")\n",
        "    elif temperature > 30:\n",
        "        print(\"It's hot\")\n",
        "    elif temperature > 20:\n",
        "        print(\"It's warm\")\n",
        "    else:\n",
        "        print(\"It's cold\")\n",
        "```\n",
        "\n",
        "**13. What is the difference between for and while loops?**\n",
        "\n",
        "```\n",
        "A. Both for and while loops are used for iteration. But they differ in how they\n",
        "   work\n",
        "\n",
        "   for:\n",
        "   ---\n",
        "   1) used when no of iterations are known\n",
        "   2) Iterates over sequenc(like list, range, string) and loop controlled by sequence\n",
        "\n",
        "   while:\n",
        "   -----\n",
        "   1) used when condition must be checked repeatedly\n",
        "   2) Reapeating block until condition fails and loop controlled by condition\n",
        "\n",
        "```\n",
        "\n",
        "**14. Describe a scenario where a while loop is more suitable than a for loop?**\n",
        "\n",
        "```\n",
        "A. While loop is more suitable when number of iterations are unknown\n",
        "\n",
        "   example:(Fertilizer Application Cycles on Grass Fields)\n",
        "   -------\n",
        "    fertilizer_cycles = 0\n",
        "\n",
        "    while fertilizer_cycles < 5:\n",
        "        fertilizer_cycles += 1\n",
        "        print(f\"Fertilizer cycle {fertilizer_cycles} completed\")\n",
        "\n",
        "```\n",
        "\n",
        "\n",
        "\n",
        "\n",
        "\n"
      ],
      "metadata": {
        "id": "5aqjKjTNPvds"
      }
    },
    {
      "cell_type": "markdown",
      "source": [
        "# **Practical Questions**"
      ],
      "metadata": {
        "id": "0SH9pAhqHIeh"
      }
    },
    {
      "cell_type": "code",
      "source": [
        "#1. Write a Python program to print \"Hello, World!\"\n",
        "\n",
        "print(\"Hello, World!\")\n"
      ],
      "metadata": {
        "id": "f-EO65-eP5Q-",
        "colab": {
          "base_uri": "https://localhost:8080/"
        },
        "outputId": "69ff560a-a42b-4167-cad1-ff6efa91670b"
      },
      "execution_count": 1,
      "outputs": [
        {
          "output_type": "stream",
          "name": "stdout",
          "text": [
            "Hello, World!\n"
          ]
        }
      ]
    },
    {
      "cell_type": "code",
      "source": [
        "#2. Write a Python program that displays your name and age\n",
        "\n",
        "name = input(\"Enter your name: \")\n",
        "age = int(input(\"Enter your age: \"))\n",
        "print(f\"Hello, {name}! You are {age} years old.\")"
      ],
      "metadata": {
        "colab": {
          "base_uri": "https://localhost:8080/"
        },
        "id": "8sX_UrpDH5tw",
        "outputId": "e6f0b35e-f16a-4102-fe66-6756b1826a76"
      },
      "execution_count": 2,
      "outputs": [
        {
          "output_type": "stream",
          "name": "stdout",
          "text": [
            "Enter your name: yamuna\n",
            "Enter your age: 29\n",
            "Hello, yamuna! You are 29 years old.\n"
          ]
        }
      ]
    },
    {
      "cell_type": "code",
      "source": [
        "#3. Write code to print all the pre-defined keywords in Python using the keyword library\n",
        "\n",
        "import keyword\n",
        "\n",
        "keywords = keyword.kwlist\n",
        "\n",
        "for keyword in keywords:\n",
        "    print(keyword)\n",
        "\n"
      ],
      "metadata": {
        "colab": {
          "base_uri": "https://localhost:8080/"
        },
        "id": "cO1siLn_Kdnb",
        "outputId": "d30eca47-6127-4452-b274-3f2cca861c84"
      },
      "execution_count": 1,
      "outputs": [
        {
          "output_type": "stream",
          "name": "stdout",
          "text": [
            "False\n",
            "None\n",
            "True\n",
            "and\n",
            "as\n",
            "assert\n",
            "async\n",
            "await\n",
            "break\n",
            "class\n",
            "continue\n",
            "def\n",
            "del\n",
            "elif\n",
            "else\n",
            "except\n",
            "finally\n",
            "for\n",
            "from\n",
            "global\n",
            "if\n",
            "import\n",
            "in\n",
            "is\n",
            "lambda\n",
            "nonlocal\n",
            "not\n",
            "or\n",
            "pass\n",
            "raise\n",
            "return\n",
            "try\n",
            "while\n",
            "with\n",
            "yield\n"
          ]
        }
      ]
    },
    {
      "cell_type": "code",
      "source": [
        "#4. Write a program that checks if a given word is a Python keyword.\n",
        "\n",
        "import keyword\n",
        "\n",
        "word = input(\"Enter a word: \")\n",
        "\n",
        "if keyword.iskeyword(word):\n",
        "    print(f\"{word} is a Python keyword.\")\n",
        "else:\n",
        "    print(f\"{word} is not a Python keyword.\")\n"
      ],
      "metadata": {
        "colab": {
          "base_uri": "https://localhost:8080/"
        },
        "id": "injC-rZMK8Lm",
        "outputId": "3b48049a-034e-4026-a6a6-09b74e39aae4"
      },
      "execution_count": 5,
      "outputs": [
        {
          "output_type": "stream",
          "name": "stdout",
          "text": [
            "Enter a word: list\n",
            "list is not a Python keyword.\n"
          ]
        }
      ]
    },
    {
      "cell_type": "code",
      "source": [
        "#5.  Create a list and tuple in Python, and demonstrate how attempting to change an element works differently for each\n",
        "\n",
        "my_list = [1,2,3,4,5] # mutable\n",
        "my_tuple = (1,2,3,4,5) # immutable\n",
        "\n",
        "my_list[0] = 6\n",
        "print(my_list)\n",
        "\n",
        "try:\n",
        "  my_tuple[0] =6 # tuple object not supports item assignment\n",
        "  print(my_tuple)\n",
        "except:\n",
        "  print(\"tuple' object does not support item assignment\")\n",
        "\n"
      ],
      "metadata": {
        "colab": {
          "base_uri": "https://localhost:8080/"
        },
        "id": "NJBprN8CLX53",
        "outputId": "be7aeede-1727-40fa-ec9c-b5fdffde3fdb"
      },
      "execution_count": 2,
      "outputs": [
        {
          "output_type": "stream",
          "name": "stdout",
          "text": [
            "[6, 2, 3, 4, 5]\n",
            "tuple' object does not support item assignment\n"
          ]
        }
      ]
    },
    {
      "cell_type": "code",
      "source": [
        "#6. Write a function to demonstrate the behavior of mutable and immutable arguments.\n",
        "\n",
        "def modify_values(num,my_list):\n",
        "    num+= 10 # here num value will be 15 but outside function it original value not modify\n",
        "    my_list.append(6) # change inside function will effect the original list\n",
        "    print(f\"num inside function: {num}\")\n",
        "    print(f\"my_list inside function: {my_list}\")\n",
        "\n",
        "immutable_num = 5\n",
        "mutable_list = [1,2,3,4,5]\n",
        "modify_values(immutable_num,mutable_list)\n",
        "print(f\"num outside function: {immutable_num}\")\n",
        "print(f\"my_list outside function: {mutable_list}\")"
      ],
      "metadata": {
        "colab": {
          "base_uri": "https://localhost:8080/"
        },
        "id": "WpFNNbKqMBCH",
        "outputId": "d75b5115-c9c8-4450-d626-f914eecc1ade"
      },
      "execution_count": 8,
      "outputs": [
        {
          "output_type": "stream",
          "name": "stdout",
          "text": [
            "num inside function: 15\n",
            "my_list inside function: [1, 2, 3, 4, 5, 6]\n",
            "num outside function: 5\n",
            "my_list outside function: [1, 2, 3, 4, 5, 6]\n"
          ]
        }
      ]
    },
    {
      "cell_type": "code",
      "source": [
        "#7.  Write a program that performs basic arithmetic operations on two user-input numbers\n",
        "a= input(\"Enter 'a' value:\")\n",
        "b= input(\"Enter 'b' value:\")\n",
        "print(f\"Addition: {int(a)+int(b)}\")"
      ],
      "metadata": {
        "colab": {
          "base_uri": "https://localhost:8080/"
        },
        "id": "Ez-q7BjvOkgj",
        "outputId": "c60ec584-c703-421c-ace8-310baf4f7d59"
      },
      "execution_count": 9,
      "outputs": [
        {
          "output_type": "stream",
          "name": "stdout",
          "text": [
            "Enter 'a' value:20\n",
            "Enter 'b' value:10\n",
            "Addition: 30\n"
          ]
        }
      ]
    },
    {
      "cell_type": "code",
      "source": [
        "#8. Write a program to demonstrate the use of logical operators.\n",
        "\n",
        "# Example - AND operator\n",
        "username = input(\"Enter username: \")\n",
        "password = input(\"Enter password: \")\n",
        "\n",
        "if username == \"admin\" and password == \"password123\":\n",
        "    print(\"Login successful!\")\n",
        "else:\n",
        "    print(\"Invalid username or password.\")\n",
        "\n",
        "# Example - OR operator\n",
        "forgot_username = input(\"Did you forget your username? (yes/no): \").lower()\n",
        "forgot_password = input(\"Did you forget your password? (yes/no): \").lower()\n",
        "\n",
        "if forgot_username == \"yes\" or forgot_password == \"yes\":\n",
        "    print(\"Please contact support team of Pwskills  to recover your account.\")\n",
        "else:\n",
        "    print(\"Thank you for trying.\")\n",
        "\n",
        "# Example - NOT operator\n",
        "is_blocked = False\n",
        "\n",
        "if not is_blocked:\n",
        "    print(\"You have access to the dashboard.\")\n",
        "else:\n",
        "    print(\"Your account is blocked.\")\n",
        "\n"
      ],
      "metadata": {
        "colab": {
          "base_uri": "https://localhost:8080/"
        },
        "id": "T6f90XWqQG-B",
        "outputId": "0d990496-8be3-433f-eab5-a0ba8dec535d"
      },
      "execution_count": 14,
      "outputs": [
        {
          "output_type": "stream",
          "name": "stdout",
          "text": [
            "Enter username: admin\n",
            "Enter password: password@123\n",
            "Invalid username or password.\n",
            "Did you forget your username? (yes/no): no\n",
            "Did you forget your password? (yes/no): yes\n",
            "Please contact support team of Pwskills  to recover your account.\n",
            "You have access to the dashboard.\n"
          ]
        }
      ]
    },
    {
      "cell_type": "code",
      "source": [
        "#9. Write a Python program to convert user input from string to integer, float, and boolean types.\n",
        "user_input = input(\"Enter a value: \")\n",
        "\n",
        "# Convert to integer\n",
        "try:\n",
        "    int_value = int(user_input)\n",
        "    print(f\"Integer value: {int_value}\")\n",
        "except ValueError:\n",
        "    print(\"Invalid input for integer conversion.\")\n",
        "\n",
        "# Convert to float\n",
        "try:\n",
        "    float_value = float(user_input)\n",
        "    print(f\"Float value: {float_value}\")\n",
        "except ValueError:\n",
        "    print(\"Invalid input for float conversion.\")\n",
        "\n",
        "# Convert to boolean\n",
        "boolean_value = bool(user_input)\n",
        "print(f\"Boolean value: {boolean_value}\")\n"
      ],
      "metadata": {
        "colab": {
          "base_uri": "https://localhost:8080/"
        },
        "id": "mnJ8rM0DQl1p",
        "outputId": "ee809fb6-bc62-40f3-d0dd-e1eb9ab06cce"
      },
      "execution_count": 4,
      "outputs": [
        {
          "output_type": "stream",
          "name": "stdout",
          "text": [
            "Enter a value: yamuna\n",
            "Invalid input for integer conversion.\n",
            "Invalid input for float conversion.\n",
            "Boolean value: True\n"
          ]
        }
      ]
    },
    {
      "cell_type": "code",
      "source": [
        "#10. Write code to demonstrate type casting with list elements\n",
        "\n",
        "values = [\"1\", \"-2\", \"0\"]\n",
        "\n",
        "# Convert to integers\n",
        "int_values = [int(x) for x in values]\n",
        "print(\"Integer list:\", int_values)\n",
        "\n",
        "# Convert to floats\n",
        "float_values = [float(x) for x in values]\n",
        "print(\"Float list:\", float_values)\n",
        "\n",
        "# Convert to booleans\n",
        "bool_values = [bool(x) for x in values]\n",
        "print(\"Boolean list:\", bool_values)\n",
        "\n"
      ],
      "metadata": {
        "colab": {
          "base_uri": "https://localhost:8080/"
        },
        "id": "6zcaH-MnTjnc",
        "outputId": "d3040a7f-9ddb-4e91-ef32-01d2c4c14f64"
      },
      "execution_count": 5,
      "outputs": [
        {
          "output_type": "stream",
          "name": "stdout",
          "text": [
            "Integer list: [1, -2, 0]\n",
            "Float list: [1.0, -2.0, 0.0]\n",
            "Boolean list: [True, True, True]\n"
          ]
        }
      ]
    },
    {
      "cell_type": "code",
      "source": [
        "#11.  Write a program that checks if a number is positive, negative, or zero.\n",
        "\n",
        "n = input(\"Enter a number: \")\n",
        "if int(n) > 0:\n",
        "    print(\"Positive\")\n",
        "elif int(n) < 0:\n",
        "    print(\"Negative\")\n",
        "else:\n",
        "    print(\"Zero\")"
      ],
      "metadata": {
        "colab": {
          "base_uri": "https://localhost:8080/"
        },
        "id": "POokizd9WHDW",
        "outputId": "0fb747cc-1026-473c-c2af-bdec786a8835"
      },
      "execution_count": 24,
      "outputs": [
        {
          "output_type": "stream",
          "name": "stdout",
          "text": [
            "Enter a number: 0\n",
            "Zero\n"
          ]
        }
      ]
    },
    {
      "cell_type": "code",
      "source": [
        "#12. Write a for loop to print numbers from 1 to 10\n",
        "for i in range(1,11):\n",
        "    print(i)"
      ],
      "metadata": {
        "colab": {
          "base_uri": "https://localhost:8080/"
        },
        "id": "QFSJQdEQW2M8",
        "outputId": "2e07e284-7b1a-4dc9-eb68-1c56b90057ee"
      },
      "execution_count": 25,
      "outputs": [
        {
          "output_type": "stream",
          "name": "stdout",
          "text": [
            "1\n",
            "2\n",
            "3\n",
            "4\n",
            "5\n",
            "6\n",
            "7\n",
            "8\n",
            "9\n",
            "10\n"
          ]
        }
      ]
    },
    {
      "cell_type": "code",
      "source": [
        "#13. Write a Python program to find the sum of all even numbers between 1 and 50.\n",
        "\n",
        "n = int(input(\"Enter a number: \"))\n",
        "sum = 0\n",
        "for i in range(1,n+1):\n",
        "    if i % 2 == 0:\n",
        "        sum += i\n",
        "\n",
        "print(f\"sum of all even numbers between 1 and {n} is {sum}\")"
      ],
      "metadata": {
        "colab": {
          "base_uri": "https://localhost:8080/"
        },
        "id": "IgQIhMluXX1l",
        "outputId": "fc7351c0-b875-433b-8bf5-cf3a3b9dec2e"
      },
      "execution_count": 28,
      "outputs": [
        {
          "output_type": "stream",
          "name": "stdout",
          "text": [
            "Enter a number: 1\n",
            "sum of all even numbers between 1 and 1 is 0\n"
          ]
        }
      ]
    },
    {
      "cell_type": "code",
      "source": [
        "#14. Write a program to reverse a string using a while loop.\n",
        "\n",
        "input_text = input(\"Enter a string: \")\n",
        "reversed_text = \"\"\n",
        "index = len(input_text) - 1\n",
        "\n",
        "while index >= 0:\n",
        "    reversed_text += input_text[index]\n",
        "    index -= 1\n",
        "\n",
        "print(\"Reversed string:\", reversed_text)\n"
      ],
      "metadata": {
        "colab": {
          "base_uri": "https://localhost:8080/"
        },
        "id": "VAolRyCtXxaY",
        "outputId": "c077a15a-4eff-44a5-bfe6-da3895ad24d8"
      },
      "execution_count": 36,
      "outputs": [
        {
          "output_type": "stream",
          "name": "stdout",
          "text": [
            "Enter a string: yan\n",
            "Reversed string: nay\n"
          ]
        }
      ]
    },
    {
      "cell_type": "code",
      "source": [
        "#15. Write a Python program to calculate the factorial of a number provided by the user using a while loop\n",
        "\n",
        "num = int(input(\"Enter a number: \"))\n",
        "factorial = 1\n",
        "n = num\n",
        "\n",
        "if num < 0:\n",
        "    print(\"Factorial is not defined for negative numbers.\")\n",
        "else:\n",
        "    while num > 0:\n",
        "        factorial *= num\n",
        "        num -= 1\n",
        "\n",
        "    print(f\"Factorial of {n} is {factorial}\")\n",
        "\n"
      ],
      "metadata": {
        "colab": {
          "base_uri": "https://localhost:8080/"
        },
        "id": "z-lnRJttYpKj",
        "outputId": "b864f38b-3a4f-434a-d07a-a1d84178043e"
      },
      "execution_count": 49,
      "outputs": [
        {
          "output_type": "stream",
          "name": "stdout",
          "text": [
            "Enter a number: 0\n",
            "Factorial of 0 is 1\n"
          ]
        }
      ]
    }
  ]
}