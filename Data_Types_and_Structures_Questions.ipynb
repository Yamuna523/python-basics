{
  "nbformat": 4,
  "nbformat_minor": 0,
  "metadata": {
    "colab": {
      "provenance": []
    },
    "kernelspec": {
      "name": "python3",
      "display_name": "Python 3"
    },
    "language_info": {
      "name": "python"
    }
  },
  "cells": [
    {
      "cell_type": "markdown",
      "source": [
        "```\n",
        "1. What are data structures, and why are they important?\n",
        "A. Data structures are specialized way of organizing,storing and managing\n",
        "   data. operations like searching, inserting, updating, deleting can be\n",
        "   performed efficiently\n",
        "   built-in data structures\n",
        "   1.List - ordered, mutable and allow duplicates\n",
        "   2.Tuple - ordered, immutable and allow duplicates\n",
        "   3.Set - unordered, mutable, no duplicates\n",
        "   4.Dictionary- key-value paris, mutable\n",
        "```\n",
        "```\n",
        "2.Explain the difference between mutable and immutable data types with\n",
        "  examples?\n",
        "A. mutable: Content can be modified (elements can be added,\n",
        "   removed, or changed) without creating a new object.\n",
        "   data types are - List, Set, Dictionary\n",
        "    Example:\n",
        "           my_list = [1, 2, 3]\n",
        "           my_list[0] = 100\n",
        "           print(my_list)   \n",
        "\n",
        "           //output: [100,2,3]\n",
        "\n",
        "\n",
        "   immutable data types: content can't be modified. Any change creates new object in memory\n",
        "       data types are - String, Tuple is immutable type\n",
        "   examples:\n",
        "  1)  my_tuple = (1, 2, 3)\n",
        "      my_tuple[0] = 100  # output: error object is unassigned\n",
        "\n",
        "  2)  my_string = \"Yamuna\"\n",
        "      new_string = my_string.replace(\"Y\", \"J\")\n",
        "      print(my_string)   # \"Yamuna\" (unchanged)\n",
        "      print(new_string)  # \"Jamuna\" (new object)     \n",
        "```\n",
        "\n",
        "```\n",
        "3. What are the main differences between lists and tuples in Python?\n",
        "A. List: 1) List is mutable(best for data changeable)\n",
        "         2) List data type defined using []\n",
        "         3)methods available like append(),extend(), insert(), remove(),pop(), del, etc\n",
        "         4)example: my_list = [1,2,3]\n",
        "          my_list.append(4)\n",
        "          print(my_list) // [1,2,3,4]\n",
        "   Tuple: 1) Tuple is immutable(best for data is fixed)\n",
        "          2) Tuple data type defined using ()\n",
        "          3)Limited methods are available like count(), index()\n",
        "          4)example: my_tuple = (1,2,3,\"Hello\", \"4.5\", \"true\")\n",
        "           print(my_tuple[3]) # Hello\n",
        "```\n",
        "\n",
        "```\n",
        "4. Describe how dictionaries store data?\n",
        "A. dictionaries store data in key value pair .Each entry has key(unique identifier) and a value associated data. key must be unique and immutable types. values can be of any data type (mutable)\n",
        "python implement dictionaries using hash table which make lookups, insertions and deletions are very fast.\n",
        "example:\n",
        "sensor_reading = {\"machine_id\":1234,\"temprature\": \"24 deg F\", \"humidity\":\"\"cloudy}\n",
        "print(sensor_reading) //{\"machine_id\":1234,\"temprature\": \"24 deg F\", \"humidity\":\"\"cloudy}\n",
        "```\n",
        "\n",
        "```\n",
        "5. Why might you use a set instead of a list in Python3?\n",
        "A. I use a set instead of a list\n",
        "    i)when I need unique elements\n",
        "    ex:- numbers = {1,2,2,2,3,4,5}\n",
        "         print(numbers) # {1,2,3,4,5}\n",
        "    ii) faster lookups\n",
        "       ex: set_numbers = {1,2,3,4,5}\n",
        "           print(5 in set_numbers) # when searching element  it will be faster because set using hasing\n",
        "           list_numbers = [1,2,3,4,5]\n",
        "           print(5 in list_numbers) # when searching element  it will be slow\n",
        "    iii) to perform set operations like union and intersection, difference   \n",
        "        which are not directly available in the list\n",
        "   \n",
        "```\n",
        "\n",
        "```\n",
        "6. What is a string in Python, and how is it different from a list?\n",
        "A. string:\n",
        "   i) A string is a sequence of characters enclosed in single qoute(')\n",
        "   or double qoute(\") or triple qoutes(''')/ (\"\"\") .\n",
        "   ii)string is an immutable\n",
        "   iii)memory efficient and fixed data\n",
        "   iv)example:- my_string= \"Hello Python 3.7\"\n",
        "   \n",
        "   list:\n",
        "   i) List can be sequence of elements and can be of any data type\n",
        "   ii) It is mutable. we can modify elements using add, remove\n",
        "   iii)It is Flexible but consume more mempry\n",
        "```\n",
        "\n",
        "```\n",
        "7. How do tuples ensure data integrity in Python?\n",
        "A. Tuples ensure data integrity because they are immutable in Python.Once tuple\n",
        "   is created it values can't be changed,added or removed. here data remains constant, prevent accidental changes\n",
        "   \n",
        "  example: coordinates = (20.1,23.2,29.6)\n",
        "  coordinates[0]= 20.0 # error\n",
        "  print(coordinates) # 20.1,23.2,29.6\n",
        "```\n",
        "```\n",
        "8. What is a hash table, and how does it relate to dictionaries in Python?\n",
        "A. A hash table is a data structure that stores data in the key value pairs\n",
        "   using a hashing function. The hash fucntion converts a key in to hashavalue (index), In the hash index the value will be stored in the memory\n",
        "   --> It allows fast lookups, insertions and deletions (O(1) on average)\n",
        "\n",
        "```\n",
        "```\n",
        "9. Can lists contain different data types in Python?\n",
        "A. Yes, List contain different data types because it is heterogeneous\n",
        "   collections.\n",
        "   * Elements can be integers, strings, floats, booleans, or even other\n",
        "     lists/objects.\n",
        "   * This flexibility comes from Python’s dynamic typing\n",
        "\n",
        "   ex:- my_list = [1,\"Hello\", 3.14, \"3+4j\", [1,2,3]]\n",
        "```\n",
        "\n",
        "```\n",
        "10. Explain why strings are immutable in Python?\n",
        "A. Strings in python are immutable means once created their content can't be\n",
        "   changed. Any modification creates a new string object will be created instead of changing old one. It ensures data integrity, consistent hasing, memory efficiency interning\n",
        "\n",
        "   eg: str = \"python\"\n",
        "     new_str = str.replace(\"p\", \"P\")\n",
        "     print(str) # python\n",
        "     print(new_str) # Python\n",
        "```\n",
        "\n",
        "```\n",
        "11. What advantages do dictionaries offer over lists for certain tasks?\n",
        "A. Dictionaries offers more advantages than list\n",
        "   1.Fast lookups\n",
        "    --> Dictionaries uses hash table, so searching of key is O(1)\n",
        "    -->In list requires scanning of each and every element O(n)\n",
        "    ex: students_list = {\"id\": 523, \"name\": \"yamuna\", \"email\": \"yamuna@krify.com\"}\n",
        "     print(students_list['id']) # retrives value data very fast O(1)\n",
        "   2.Key-Value mapping\n",
        "    --> Dictionaries allows you to map unique keys to values\n",
        "    -->List only access via index number\n",
        "  3.Flexibility of keys\n",
        "    --> Dictionaries keys can be any types (string,number, tuples, list )\n",
        "    -->List are limited to numeric indices\n",
        "```\n",
        "\n",
        "```\n",
        "12. Describe a scenario where using a tuple would be preferable over a list?\n",
        "A.  Tuples are useful for representing fixed, read-only data such as database\n",
        "    rows, coordinates. Their immutability ensures data integrity, which make them safer than list\n",
        "\n",
        "    scenario:\n",
        "    1) coordiantes of location\n",
        "     coordinates = (72.6139, 80.2090)  # XYZ location\n",
        "\n",
        "     --> coordinates[0] = 23.34324 # it will not allowed to\n",
        "     change that value\n",
        "\n",
        "    2)DAYS_OF_WEEK = (\"Mon\", \"Tue\", \"Wed\", \"Thu\", \"Fri\", \"Sat\", \"Sun\")\n",
        "      days of week is alos fixed in this case also tuple is preferable\n",
        "\n",
        "   ** For performance wise very large collections of data that do not change, tuples are faster and more memory-efficient than lists.\n",
        "\n",
        "```\n",
        "\n",
        "```\n",
        "13. How do sets handle duplicate values in Python?\n",
        "A.  In Python set is a unordered collection of unique elements. Even if you add\n",
        "    duplicate values to set it will take only copy and avaoid duplicates. This behaviour is accepted because of it stores data in the hash tables where each element is stored based on hash value\n",
        "\n",
        "    nums = {1,2,3,4,4,5,2}\n",
        "    print(nums) # {1,2,3,4,5}\n",
        "```\n",
        "\n",
        "```\n",
        "14. How does the “in” keyword work differently for lists and dictionaries?\n",
        "A. List:\n",
        "     --> The in keyword checks if a value exists as an element in the list.\n",
        "     --> It performs a linear search time complexity O(n)\n",
        "     ex:\n",
        "         student_names = [\"anusha\", \"yamuna\", \"divya\"]\n",
        "         print('yamuna' in student_names) # True\n",
        "         print('isha' in student_names) # False\n",
        "    \n",
        "   Dictionaries:\n",
        "      -->The in keyword checks key exists in dictionary not the value\n",
        "      -->It uses hash table lookups and time complecity O(1)\n",
        "      ex: student_info = {\"id\": 1, \"name\": \"XYZ\"}\n",
        "           print('id' in student_info) #  returns the value 1\n",
        "           print('XYZ' in student_info) # False\n",
        "\n",
        "           we can also check values from dictionary\n",
        "           print('XYZ' in student_info().values) # True O(n)\n",
        "\n",
        "```\n",
        "\n",
        "```\n",
        "15. Can you modify the elements of a tuple? Explain why or why not?\n",
        "A. No, elements of a tuple cannot be modify because tuples are immutable which\n",
        "   means once tuple is created, its contents cann't be changed\n",
        "\n",
        "   ex: t = (1,2,3,4)\n",
        "       t[0] = 100 # it throws error\n",
        "  \n",
        "   --> Here Tuple is immutable but we can have mutable objects like list or dictionaries. here we can't change tuple structure but mutable object can be modified\n",
        "\n",
        "   ex: tuple_mutable_object = (1,[2,3], 4)\n",
        "       tuple_mutable_object[1][0]= 6 # Allowed to modified\n",
        "       print(tuple_mutable_object) # (1,[6,3],4)\n",
        "```\n",
        "\n",
        "```\n",
        "16. What is a nested dictionary, and give an example of its use case?\n",
        "A. A nested dictionary is dictionary that contain another dictionary as value\n",
        "   It allow as to represent hierarical data structure\n",
        "    \n",
        "   ex:\n",
        "   student_info = {\n",
        "    1: {\"name\": \"yamuna\", \"age\": 29, \"email\": \"xyz@gmail.com\"},\n",
        "    2: {\"name\": \"isha\", \"age\": 2, \"email\": \"yzz@gmail.com\"},\n",
        "    3: {\"name\": \"krishna\", \"age\": 29, \"email\": \"zxy@gmail.com\"}\n",
        "   }\n",
        "   print(student_info[1]['name']) # yamuna\n",
        "\n",
        "```\n",
        "\n",
        "```\n",
        "17. Describe the time complexity of accessing elements in a dictionary?\n",
        "A. O(1) is the average time complexity of accessing elements in a dictionary\n",
        "   becuse it stores the data in the hash table where key is hased to find index\n",
        "   directly.So, lookups, insertions, deletions are generally very fast\n",
        "\n",
        "```\n",
        "\n",
        "```\n",
        "18. In what situations are lists preferred over dictionaries?\n",
        "A. Lists are preferred when data is ordered, needs to be accessed by index,\n",
        "   can contain duplicates, or when a simple sequence is required without key–value mapping\n",
        "\n",
        "```\n",
        "```\n",
        "19. Why are dictionaries considered unordered, and how does that affect data\n",
        "    retrieval?\n",
        "A. -->Dictionaries are unordered because they store data using hashing not\n",
        "   positions\n",
        "   --> You can access items using keys intead of index like list\n",
        "   -->Retrieval is fast O(1)\n",
        "   -->From 3.7 version of python insertion ordered is preserved but still dictionary mainly about key based access not sequence\n",
        "\n",
        "   it affect data retrieval\n",
        "   1) access data by hash value of keys not by index\n",
        "   2)Iteration order may not order logically\n",
        "```\n",
        "```\n",
        "20. Explain the difference between a list and a dictionary in terms of data\n",
        "    retrieval.\n",
        "A.  List:\n",
        "     --> Retriving data form list using index(order matters here)\n",
        "     --> It performs a linear search time complexity O(n)\n",
        "     ex:\n",
        "         number_list = [100,102,104]\n",
        "         number_list[0] # 100\n",
        "    \n",
        "   Dictionaries:\n",
        "      --> Retriving data form Dictionary using key-value based(order doesn't matter only key matters)\n",
        "      -->It uses hash table lookups and time complecity O(1)\n",
        "      ex: student_info = {\"id\": 1, \"name\": \"XYZ\"}\n",
        "           print(student_info['id']) #  returns the value 1\n",
        "          \n",
        "```"
      ],
      "metadata": {
        "id": "toEeUftElMrf"
      }
    },
    {
      "cell_type": "markdown",
      "source": [
        "# Practical Questions"
      ],
      "metadata": {
        "id": "7hucVNLIYnTe"
      }
    },
    {
      "cell_type": "code",
      "source": [
        "#1 .Write a code to create a string with your name and print it\n",
        "name = \"Yamuna\"\n",
        "print(name)"
      ],
      "metadata": {
        "colab": {
          "base_uri": "https://localhost:8080/"
        },
        "id": "h7S5z9O1Y383",
        "outputId": "867f83b2-be30-4004-b705-34895d44db4e"
      },
      "execution_count": 1,
      "outputs": [
        {
          "output_type": "stream",
          "name": "stdout",
          "text": [
            "Yamuna\n"
          ]
        }
      ]
    },
    {
      "cell_type": "code",
      "source": [
        "#2. Write a code to find the length of the string \"Hello World\"\n",
        "str = \"Hello World\"\n",
        "print(len(str)) # including space it will calculate the lenght"
      ],
      "metadata": {
        "colab": {
          "base_uri": "https://localhost:8080/"
        },
        "id": "WxteWwPAZOVL",
        "outputId": "1202d3dc-2f3c-483e-9064-8742bdc67825"
      },
      "execution_count": 2,
      "outputs": [
        {
          "output_type": "stream",
          "name": "stdout",
          "text": [
            "11\n"
          ]
        }
      ]
    },
    {
      "cell_type": "code",
      "source": [
        "#3. Write a code to slice the first 3 characters from the string \"Python Programming\"\n",
        "\n",
        "slice_str = \"Python Programming\"\n",
        "print(slice_str[0:3])"
      ],
      "metadata": {
        "colab": {
          "base_uri": "https://localhost:8080/"
        },
        "id": "mm7OtwHGZW9v",
        "outputId": "71f89d3b-5518-4155-8298-9a3edef056cc"
      },
      "execution_count": 3,
      "outputs": [
        {
          "output_type": "stream",
          "name": "stdout",
          "text": [
            "Pyt\n"
          ]
        }
      ]
    },
    {
      "cell_type": "code",
      "source": [
        "#4. Write a code to convert the string \"hello\" to uppercase\n",
        "upper_str = \"hello\"\n",
        "print(upper_str.upper())"
      ],
      "metadata": {
        "colab": {
          "base_uri": "https://localhost:8080/"
        },
        "id": "R9n_x5OBZ-6U",
        "outputId": "4cf86e26-fbac-42be-af8b-d674542d3dc7"
      },
      "execution_count": 6,
      "outputs": [
        {
          "output_type": "stream",
          "name": "stdout",
          "text": [
            "HELLO\n"
          ]
        }
      ]
    },
    {
      "cell_type": "code",
      "source": [
        "#5. Write a code to replace the word \"apple\" with \"orange\" in the string \"I like apple\"\n",
        "\n",
        "my_str = \"I like apple\"\n",
        "replace_str = my_str.replace('apple', 'orange')\n",
        "print(replace_str)\n"
      ],
      "metadata": {
        "colab": {
          "base_uri": "https://localhost:8080/"
        },
        "id": "e_l0n35saQ-7",
        "outputId": "7537c27b-458c-48da-d079-a2caf5244f82"
      },
      "execution_count": 7,
      "outputs": [
        {
          "output_type": "stream",
          "name": "stdout",
          "text": [
            "I like orange\n"
          ]
        }
      ]
    },
    {
      "cell_type": "code",
      "source": [
        "#6. Write a code to create a list with numbers 1 to 5 and print it\n",
        "my_list = [1,2,3,4,5]\n",
        "print(my_list)"
      ],
      "metadata": {
        "colab": {
          "base_uri": "https://localhost:8080/"
        },
        "id": "6hX-TjtEavYQ",
        "outputId": "2b311b16-62f3-4f21-cba9-f1538f21a57f"
      },
      "execution_count": 9,
      "outputs": [
        {
          "output_type": "stream",
          "name": "stdout",
          "text": [
            "[1, 2, 3, 4, 5]\n"
          ]
        }
      ]
    },
    {
      "cell_type": "code",
      "source": [
        "#7. Write a code to append the number 10 to the list [1, 2, 3, 4]\n",
        "a_list = [1,2,3,4]\n",
        "a_list.append(10)\n",
        "a_list"
      ],
      "metadata": {
        "colab": {
          "base_uri": "https://localhost:8080/"
        },
        "id": "MAeNdBF3cJ4O",
        "outputId": "44e38130-3676-42a3-ac82-b49fc512cdff"
      },
      "execution_count": 10,
      "outputs": [
        {
          "output_type": "execute_result",
          "data": {
            "text/plain": [
              "[1, 2, 3, 4, 10]"
            ]
          },
          "metadata": {},
          "execution_count": 10
        }
      ]
    },
    {
      "cell_type": "code",
      "source": [
        "#8. Write a code to remove the number 3 from the list [1, 2, 3, 4, 5]\n",
        "r_list = [1,2,3,4,5]\n",
        "r_list.remove(3)\n",
        "print(r_list)"
      ],
      "metadata": {
        "colab": {
          "base_uri": "https://localhost:8080/"
        },
        "id": "VCEsnOcSdcsI",
        "outputId": "59e0f43b-4f54-430e-f31f-b658b3fb5e60"
      },
      "execution_count": 12,
      "outputs": [
        {
          "output_type": "stream",
          "name": "stdout",
          "text": [
            "[1, 2, 4, 5]\n"
          ]
        }
      ]
    },
    {
      "cell_type": "code",
      "source": [
        "#9. Write a code to access the second element in the list ['a', 'b', 'c', 'd']\n",
        "a_list = ['a', 'b','c', 'd']\n",
        "print(a_list[1])"
      ],
      "metadata": {
        "colab": {
          "base_uri": "https://localhost:8080/"
        },
        "id": "nfXU7ZRrzM4Q",
        "outputId": "e965a31f-e9f5-4116-c6d1-eb1bb77e5f3a"
      },
      "execution_count": 13,
      "outputs": [
        {
          "output_type": "stream",
          "name": "stdout",
          "text": [
            "b\n"
          ]
        }
      ]
    },
    {
      "cell_type": "code",
      "source": [
        "#10. Write a code to reverse the list [10, 20, 30, 40, 50].\n",
        "reverse_list =  [10, 20, 30, 40, 50]\n",
        "reverse_list.reverse()\n",
        "print(reverse_list)\n",
        "\n",
        "#without reverse function\n",
        "print([10, 20, 30, 40, 50][::-1])"
      ],
      "metadata": {
        "colab": {
          "base_uri": "https://localhost:8080/"
        },
        "id": "1GqWUz4Zze6S",
        "outputId": "c3a6c4b9-b386-4a49-bf8d-2d61784141be"
      },
      "execution_count": 18,
      "outputs": [
        {
          "output_type": "stream",
          "name": "stdout",
          "text": [
            "[50, 40, 30, 20, 10]\n",
            "[50, 40, 30, 20, 10]\n"
          ]
        }
      ]
    },
    {
      "cell_type": "code",
      "source": [
        "#11. Write a code to create a tuple with the elements 100, 200, 300 and print it\n",
        "my_tuple = (100, 200, 300)\n",
        "print(my_tuple)\n"
      ],
      "metadata": {
        "colab": {
          "base_uri": "https://localhost:8080/"
        },
        "id": "TqOa0CtGzt9b",
        "outputId": "461bd201-4ac6-4686-c255-2e412b819289"
      },
      "execution_count": 19,
      "outputs": [
        {
          "output_type": "stream",
          "name": "stdout",
          "text": [
            "(100, 200, 300)\n"
          ]
        }
      ]
    },
    {
      "cell_type": "code",
      "source": [
        "#12.  Write a code to access the second-to-last element of the tuple ('red', 'green', 'blue', 'yellow').\n",
        "a_t_list = ('red', 'green', 'blue', 'yellow')\n",
        "print(a_t_list[-2])\n"
      ],
      "metadata": {
        "colab": {
          "base_uri": "https://localhost:8080/"
        },
        "id": "UEz5Qck-0iTA",
        "outputId": "7213a86f-9df9-4242-f10a-f58f8764e712"
      },
      "execution_count": 20,
      "outputs": [
        {
          "output_type": "stream",
          "name": "stdout",
          "text": [
            "blue\n"
          ]
        }
      ]
    },
    {
      "cell_type": "code",
      "source": [
        "#13. Write a code to find the minimum number in the tuple (10, 20, 5, 15).\n",
        "m_tuple = (10, 20, 5, 15)\n",
        "print(min(m_tuple))"
      ],
      "metadata": {
        "colab": {
          "base_uri": "https://localhost:8080/"
        },
        "id": "rkT_SUHb0vby",
        "outputId": "5f7ab024-79f9-4d8b-e8e6-bebf8d87a46b"
      },
      "execution_count": 22,
      "outputs": [
        {
          "output_type": "stream",
          "name": "stdout",
          "text": [
            "5\n"
          ]
        }
      ]
    },
    {
      "cell_type": "code",
      "source": [
        "#14.  Write a code to find the index of the element \"cat\" in the tuple ('dog', 'cat', 'rabbit')\n",
        "animals_tuple = ('dog', 'cat', 'rabbit')\n",
        "print(animals_tuple.index('cat'))\n"
      ],
      "metadata": {
        "colab": {
          "base_uri": "https://localhost:8080/"
        },
        "id": "m8stB5ff1CCe",
        "outputId": "769c69e1-bd88-463b-9abb-1a505c6df817"
      },
      "execution_count": 23,
      "outputs": [
        {
          "output_type": "stream",
          "name": "stdout",
          "text": [
            "1\n"
          ]
        }
      ]
    },
    {
      "cell_type": "code",
      "source": [
        "#15. Write a code to create a tuple containing three different fruits and check if \"kiwi\" is in it.\n",
        "fruits_tuple = ('kiwi', 'Avacado', 'dragon')\n",
        "\n",
        "if 'kiwi' in fruits_tuple:\n",
        "    print(\"Kiwi in fruits list\")\n",
        "else:\n",
        "    print(\"Kiwi not in fruits list\")\n"
      ],
      "metadata": {
        "colab": {
          "base_uri": "https://localhost:8080/"
        },
        "id": "03DaBjNk1gHL",
        "outputId": "e11b0cfa-3d0b-418e-d9b7-a81e9f6d11cf"
      },
      "execution_count": 24,
      "outputs": [
        {
          "output_type": "stream",
          "name": "stdout",
          "text": [
            "Kiwi in fruits list\n"
          ]
        }
      ]
    },
    {
      "cell_type": "code",
      "source": [
        "#16.  Write a code to create a set with the elements 'a', 'b', 'c' and print it\n",
        "alphabets_set = {'a', 'b', 'c', 'a'}\n",
        "print(alphabets_set)"
      ],
      "metadata": {
        "colab": {
          "base_uri": "https://localhost:8080/"
        },
        "id": "ziwp25Hr3sAG",
        "outputId": "00835b6e-c4e4-416f-98c4-ea27f8b1b356"
      },
      "execution_count": 28,
      "outputs": [
        {
          "output_type": "stream",
          "name": "stdout",
          "text": [
            "{'c', 'a', 'b'}\n"
          ]
        }
      ]
    },
    {
      "cell_type": "code",
      "source": [
        "#17. Write a code to clear all elements from the set {1, 2, 3, 4, 5}\n",
        "my_set = {1,2,3,4,5}\n",
        "my_set.clear() # it will clear only the elements\n",
        "print(my_set)"
      ],
      "metadata": {
        "colab": {
          "base_uri": "https://localhost:8080/"
        },
        "id": "8kEMC2dF38o5",
        "outputId": "961c1a4f-d374-486c-afa9-e58648e5fe7f"
      },
      "execution_count": 31,
      "outputs": [
        {
          "output_type": "stream",
          "name": "stdout",
          "text": [
            "set()\n"
          ]
        }
      ]
    },
    {
      "cell_type": "code",
      "source": [
        "#18.  Write a code to remove the element 4 from the set {1, 2, 3, 4}.\n",
        "my_set = {1,2,3,4}\n",
        "my_set.remove(4) # remove element by value\n",
        "print(my_set)"
      ],
      "metadata": {
        "colab": {
          "base_uri": "https://localhost:8080/"
        },
        "id": "JPltHdw94osE",
        "outputId": "9e2fd038-84d8-4e75-bd20-0d0d98f31f04"
      },
      "execution_count": 32,
      "outputs": [
        {
          "output_type": "stream",
          "name": "stdout",
          "text": [
            "{1, 2, 3}\n"
          ]
        }
      ]
    },
    {
      "cell_type": "code",
      "source": [
        "#19. Write a code to find the union of two sets {1, 2, 3} and {3, 4, 5}.\n",
        "set1 = {1,2,3}\n",
        "set2 = {3,4,5}\n",
        "print(set1.union(set2))"
      ],
      "metadata": {
        "colab": {
          "base_uri": "https://localhost:8080/"
        },
        "id": "nzxsWR_y5Alg",
        "outputId": "341a0e43-9992-423a-92aa-5d9d3b076712"
      },
      "execution_count": 33,
      "outputs": [
        {
          "output_type": "stream",
          "name": "stdout",
          "text": [
            "{1, 2, 3, 4, 5}\n"
          ]
        }
      ]
    },
    {
      "cell_type": "code",
      "source": [
        "#20. Write a code to find the intersection of two sets {1, 2, 3} and {2, 3, 4}.\n",
        "set1 = {1,2,3}\n",
        "set2 = {2,3,4}\n",
        "print(set1.intersection(set2)) # 2,3 are common values in both tables"
      ],
      "metadata": {
        "colab": {
          "base_uri": "https://localhost:8080/"
        },
        "id": "mlvBo3M_5TM2",
        "outputId": "36e6e4d1-5c9f-4540-ce6a-a97c6528ccf2"
      },
      "execution_count": 34,
      "outputs": [
        {
          "output_type": "stream",
          "name": "stdout",
          "text": [
            "{2, 3}\n"
          ]
        }
      ]
    },
    {
      "cell_type": "code",
      "source": [
        "#21. Write a code to create a dictionary with the keys \"name\", \"age\", and \"city\", and print it\n",
        "my_dict = {\"name\": \"Yamuna\", \"age\": 29, \"city\": \"Kakinada\"}\n",
        "print(my_dict)"
      ],
      "metadata": {
        "colab": {
          "base_uri": "https://localhost:8080/"
        },
        "id": "-d_mxQQK6F-p",
        "outputId": "11be36b6-21de-47b5-dfa4-0f95b2aca6e8"
      },
      "execution_count": 35,
      "outputs": [
        {
          "output_type": "stream",
          "name": "stdout",
          "text": [
            "{'name': 'Yamuna', 'age': 29, 'city': 'Kakinada'}\n"
          ]
        }
      ]
    },
    {
      "cell_type": "code",
      "source": [
        "#22. Write a code to add a new key-value pair \"country\": \"USA\" to the dictionary {'name': 'John', 'age': 25}.\n",
        "#1st way\n",
        "personal_info = {'name': 'John', 'age': 25}\n",
        "personal_info['country'] = 'Kakinada'\n",
        "print(personal_info)\n",
        "\n",
        "#2nd way\n",
        "personal_info1 = {'name': 'yamuna', 'age': 29}\n",
        "personal_info1.update({'country': 'Kakinada'})\n",
        "print(personal_info1)\n",
        "\n",
        "#3rd way - only add if key doesn't exits\n",
        "personal_info2 = {'name': 'yamuna', 'age': 29}\n",
        "personal_info2.setdefault('country', 'Kakinada')\n",
        "print(personal_info2)\n",
        "\n",
        "#4th way creates a new dictionary\n",
        "personal_info3 = {'name': 'yamuna', 'age': 29}\n",
        "personal_info3 = { **personal_info3,'country':'Kakinada'}\n",
        "print(personal_info3)\n"
      ],
      "metadata": {
        "colab": {
          "base_uri": "https://localhost:8080/"
        },
        "id": "MNojk8mX6p4_",
        "outputId": "65670454-26e1-4b04-83e6-0652bb12877c"
      },
      "execution_count": 50,
      "outputs": [
        {
          "output_type": "stream",
          "name": "stdout",
          "text": [
            "{'name': 'John', 'age': 25, 'country': 'Kakinada'}\n",
            "{'name': 'yamuna', 'age': 29, 'country': 'Kakinada'}\n",
            "{'name': 'yamuna', 'age': 29, 'country': 'Kakinada'}\n",
            "{'name': 'yamuna', 'age': 29, 'country': 'Kakinada'}\n"
          ]
        }
      ]
    },
    {
      "cell_type": "code",
      "source": [
        "#23.  Write a code to access the value associated with the key \"name\" in the dictionary {'name': 'Alice', 'age': 30}.\n",
        "personal_info = {'name': 'Alice', 'age': 30}\n",
        "print(personal_info['name'])"
      ],
      "metadata": {
        "colab": {
          "base_uri": "https://localhost:8080/"
        },
        "id": "tm3jTwP164z6",
        "outputId": "6cf640e5-0253-448b-8067-c60a44ae2ab1"
      },
      "execution_count": 43,
      "outputs": [
        {
          "output_type": "stream",
          "name": "stdout",
          "text": [
            "Alice\n"
          ]
        }
      ]
    },
    {
      "cell_type": "code",
      "source": [
        "#24. Write a code to remove the key \"age\" from the dictionary {'name': 'Bob', 'age': 22, 'city': 'New York'}.\n",
        "personal_info = {'name': 'Bob', 'age': 22, 'city': 'New York'}\n",
        "personal_info.pop('age')\n",
        "print(personal_info)"
      ],
      "metadata": {
        "colab": {
          "base_uri": "https://localhost:8080/"
        },
        "id": "AfuouHrg9Zh3",
        "outputId": "7ba8023b-138f-41c0-d910-c4586e9c4278"
      },
      "execution_count": 44,
      "outputs": [
        {
          "output_type": "stream",
          "name": "stdout",
          "text": [
            "{'name': 'Bob', 'city': 'New York'}\n"
          ]
        }
      ]
    },
    {
      "cell_type": "code",
      "source": [
        "#25.  Write a code to check if the key \"city\" exists in the dictionary {'name': 'Alice', 'city': 'Paris'}.\n",
        "\n",
        "personal_info = {'name': 'Alice', 'city': 'Paris'}\n",
        "if 'city' in personal_info: #Only with key value need to check\n",
        "    print(\"City is present\")\n",
        "else:\n",
        "    print(\"City is not present\")"
      ],
      "metadata": {
        "colab": {
          "base_uri": "https://localhost:8080/"
        },
        "id": "YWzkhUDg9kdR",
        "outputId": "8beb2e4e-d4f5-4613-9d41-7baaed3b5e7f"
      },
      "execution_count": 48,
      "outputs": [
        {
          "output_type": "stream",
          "name": "stdout",
          "text": [
            "City is present\n"
          ]
        }
      ]
    },
    {
      "cell_type": "code",
      "source": [
        "#26.  Write a code to create a list, a tuple, and a dictionary, and print them all.\n",
        "\n",
        "list = [1,2,3,4,5,2,2.0, \"python\", True, [10,20,30]]\n",
        "print(list)\n",
        "\n",
        "tuple = (1,2,3,4,5,2,2.0, \"python\", True, [10,20,30])\n",
        "print(tuple)\n",
        "\n",
        "dict = {\"name\": \"Yamuna\", \"age\": 29, \"city\": \"Kakinada\"}\n",
        "print(dict)\n",
        "\n",
        "\n"
      ],
      "metadata": {
        "colab": {
          "base_uri": "https://localhost:8080/"
        },
        "id": "foqzTwQT-BAD",
        "outputId": "9b0b5b14-be9f-489a-e197-6ebfa5994b5f"
      },
      "execution_count": 49,
      "outputs": [
        {
          "output_type": "stream",
          "name": "stdout",
          "text": [
            "[1, 2, 3, 4, 5, 2, 2.0, 'python', True, [10, 20, 30]]\n",
            "(1, 2, 3, 4, 5, 2, 2.0, 'python', True, [10, 20, 30])\n",
            "{'name': 'Yamuna', 'age': 29, 'city': 'Kakinada'}\n"
          ]
        }
      ]
    },
    {
      "cell_type": "code",
      "source": [
        "#27.  Write a code to create a list of 5 random numbers between 1 and 100, sort it in ascending order, and print the result.(replaced)\n",
        "import random\n",
        "\n",
        "random_numbers = random.sample(range(1,101), 5)\n",
        "random_numbers.sort()\n",
        "print(type(random_numbers))\n",
        "print(random_numbers)"
      ],
      "metadata": {
        "colab": {
          "base_uri": "https://localhost:8080/"
        },
        "id": "N7dmfgNG_yGH",
        "outputId": "803e3968-ff7d-4a0b-81c8-6f30d36be292"
      },
      "execution_count": 55,
      "outputs": [
        {
          "output_type": "stream",
          "name": "stdout",
          "text": [
            "<class 'list'>\n",
            "[8, 10, 14, 52, 72]\n"
          ]
        }
      ]
    },
    {
      "cell_type": "code",
      "source": [
        "#28.  Write a code to create a list with strings and print the element at the third index.\n",
        "str_list = ['ganga', 'yamuna', 'krishna', 'godavari', 'kaveri']\n",
        "print(str_list[3])\n"
      ],
      "metadata": {
        "colab": {
          "base_uri": "https://localhost:8080/"
        },
        "id": "HINe0CckBF_y",
        "outputId": "e2c08eda-29fb-46a7-a353-67dfe2183201"
      },
      "execution_count": 56,
      "outputs": [
        {
          "output_type": "stream",
          "name": "stdout",
          "text": [
            "godavari\n"
          ]
        }
      ]
    },
    {
      "cell_type": "code",
      "source": [
        "#29.  Write a code to combine two dictionaries into one and print the result.\n",
        "#1 way\n",
        "dict1 = {'a':1, 'b':2}\n",
        "dict2 = {'c':3, 'd':4}\n",
        "combine_dict = dict1.copy()\n",
        "combine_dict.update(dict2)\n",
        "print(combine_dict)\n",
        "\n",
        "#2nd way\n",
        "combine_dict1 = { **dict1, **dict2}\n",
        "print(combine_dict1)\n",
        "\n",
        "#3rd way\n",
        "combine_dict2 =dict1 | dict2\n",
        "print(combine_dict2)\n"
      ],
      "metadata": {
        "colab": {
          "base_uri": "https://localhost:8080/"
        },
        "id": "m9QQ2IxXCPLw",
        "outputId": "f3e2a974-873e-4a29-f822-bb479f6fd329"
      },
      "execution_count": 62,
      "outputs": [
        {
          "output_type": "stream",
          "name": "stdout",
          "text": [
            "{'a': 1, 'b': 2, 'c': 3, 'd': 4}\n",
            "{'a': 1, 'b': 2, 'c': 3, 'd': 4}\n",
            "{'a': 1, 'b': 2, 'c': 3, 'd': 4}\n"
          ]
        }
      ]
    },
    {
      "cell_type": "code",
      "source": [
        "#30. Write a code to convert a list of strings into a set.\n",
        "str_list = ['ganga', 'yamuna', 'krishna', 'godavari', 'kaveri']\n",
        "str_set = set(str_list)\n",
        "print(str_set)"
      ],
      "metadata": {
        "colab": {
          "base_uri": "https://localhost:8080/"
        },
        "id": "5tdwwvegDHRB",
        "outputId": "e271834a-4085-4e1f-9368-37192540624d"
      },
      "execution_count": 63,
      "outputs": [
        {
          "output_type": "stream",
          "name": "stdout",
          "text": [
            "{'krishna', 'ganga', 'kaveri', 'yamuna', 'godavari'}\n"
          ]
        }
      ]
    },
    {
      "cell_type": "code",
      "source": [],
      "metadata": {
        "id": "C_0osXpoEoCT"
      },
      "execution_count": null,
      "outputs": []
    }
  ]
}