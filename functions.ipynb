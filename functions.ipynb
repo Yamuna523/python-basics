{
  "nbformat": 4,
  "nbformat_minor": 0,
  "metadata": {
    "colab": {
      "provenance": [],
      "gpuType": "V28"
    },
    "kernelspec": {
      "name": "python3",
      "display_name": "Python 3"
    },
    "language_info": {
      "name": "python"
    },
    "accelerator": "TPU"
  },
  "cells": [
    {
      "cell_type": "code",
      "execution_count": null,
      "metadata": {
        "id": "iJHUC3zQlnfA"
      },
      "outputs": [],
      "source": []
    },
    {
      "cell_type": "markdown",
      "source": [
        "# Functions\n",
        "Theory  Questions\n",
        "\n",
        "```\n",
        "1. What is the difference between a function and a method in Python?\n",
        "A. Function:\n",
        "      ->It is a block of code which performs some specific task / computation\n",
        "      ->Independent and not tied to objects unless explicitly passed\n",
        "      ->called directly using its name # print(), len(), ciel(), floor()\n",
        "      ->No special first argument\n",
        "      ex:\n",
        "         def greet(name):\n",
        "            return f\"Hello, {name}\"\n",
        "\n",
        "        print(greet(\"Isha\"))   # Function call output is Hello Isha\n",
        "        \n",
        "   Method:\n",
        "      -> A function is defined inside class and associated with an object\n",
        "      -> Belongs to an object or a class\n",
        "      -> called using object or class # my_list.append(1)\n",
        "      -> Instance method take self as first argument and class method take cls\n",
        "      ex:\n",
        "          class Animals:\n",
        "               def animal_name(self):   # method inside class\n",
        "                   print(f\"Animal name is {name}\")\n",
        "\n",
        "               def __init__(self, name):\n",
        "                   self.name = name\n",
        "\n",
        "\n",
        "           a = Animals(\"cat\")\n",
        "           print(a.animal_name()) #Method call( bound to object)\n",
        "\n",
        "```\n",
        "  2. Explain the concept of function arguments and parameters in Python.\n",
        "  A .\n",
        "      Functional Parameters:\n",
        "       ->The names/variables defined in the function signature\n",
        "       ex: def greet(name, age):  # name and age are parameters here\n",
        "               return f\"Hello {name}, Age is {age}\"\n",
        "\n",
        "           \n",
        "      \n",
        "      Function Arguments:\n",
        "        -> The actual values/data you pass when calling the function\n",
        "        ex: greet(\"yamuna\", 29) # \"yamuna\" and 29 are arguments\n",
        "```\n",
        "\n",
        "```\n",
        "3. What are the different ways to define and call a function in Python?\n",
        "A. In Python, functions can be defined using def, lambda, nested functions, or\n",
        "   recursion. They can be called directly, with positional/keyword arguments,\n",
        "   with default values, using *args/**kwargs, by passing them as arguments to\n",
        "   other functions, or as methods bound to objects.\n",
        "   -->different ways and function calls:\n",
        "       1) common way\n",
        "       def greet():\n",
        "            return \"Welcome to Functions\"\n",
        "        #direct calling the function or With Default Arguments\n",
        "        print(greet()) #Welcome to Functions\n",
        "\n",
        "\n",
        "      2) function with parameters\n",
        "         def greet(name):\n",
        "             return f\"Welcome to Functions {name}\"\n",
        "         #Function with arguments\n",
        "         greet(\"yamuna\") #Welcome to Functions yamuna\n",
        "      \n",
        "      3)function with default parameters\n",
        "        def greet(name=\"krishna\"):\n",
        "            return f\"Welcome to Functions {name}\"\n",
        "          \n",
        "        greet(\"yamuna\") #Welcome to Functions krishna\n",
        "\n",
        "        #with keyword argument\n",
        "        # greet(name=\"yamuna\")\n",
        "\n",
        "      4)variable-length arguments\n",
        "        Using *args (tuple of extra positional args)\n",
        "        Using **kwargs (dict of extra keyword args)\n",
        "\n",
        "        ex: def show(*args, **kwargs):\n",
        "           print(\"Args:\", args)\n",
        "           print(\"Kwargs:\", kwargs)\n",
        "\n",
        "           a =show(1,2,3,4,5,6,7,a=1,b=2) # [1,2,3,4,5,6,7] and {a:1, b:2}\n",
        "      \n",
        "      5)Lambda Function\n",
        "          square = lamdba x: x * x\n",
        "          print(square(5)) #25\n",
        "\n",
        "      6)Nested Function\n",
        "          def outerFn():\n",
        "              print(\"I am outer\")\n",
        "              \n",
        "              def innerFn():\n",
        "                 print(\"I am inner\")\n",
        "              \n",
        "              innerFn()\n",
        "\n",
        "\n",
        "      outerFn()\n",
        "      # I am outer\n",
        "      #I am inner\n",
        "\n",
        "    7)Recusive Function\n",
        "       def factorial(n):\n",
        "           return 1 if n == 0 else n * factorial(n-1)\n",
        "\n",
        "      factorial(3)\n",
        "\n",
        "    8)Built in function\n",
        "      class Math:\n",
        "        def add(self, a, b):\n",
        "          return a + b\n",
        "\n",
        "      a = Math()\n",
        "      print(a.add(2,3)) # object(method call)\n",
        "```\n",
        "\n",
        "```\n",
        "4.  What is the purpose of the `return` statement in a Python function?\n",
        "A.  return statement is used in a function to\n",
        "    -> to Terminate the function execution Immediately\n",
        "    -> send data back to the caller(output of the function)\n",
        "    -> Allow Resusability of computed result instead of printing\n",
        "\n",
        "    def add(a, b):\n",
        "       return a + b   # returns the sum\n",
        "\n",
        "    result = add(3, 5)\n",
        "   print(result)      \n",
        "    \n",
        "```\n",
        "\n",
        "```\n",
        "5. What are iterators in Python and how do they differ from iterables?\n",
        "A. An Iterable is any object that can return an iterator as (list,tuple,string,dict,set)\n",
        "\n",
        "  Iterable:\n",
        "  ->An iterable is any Python object or data structure that can return its elements one at a time.\n",
        "  -> Any object that implements the __iter__() method is iterable.\n",
        "  ->It doesn't remeber state it just gives an new iterator when needed\n",
        "  ->list,tuple,string,dict,set\n",
        "\n",
        "  ex: my_list= [1,2,3]\n",
        "     for x in my_list: #list is iterable\n",
        "        print(x)\n",
        "\n",
        "  Iterator:\n",
        "  -> An Iterator is an object representing a stream of data that return data one by one\n",
        "  ->An object that produces elements one at a time using __next__()\n",
        "  ->created when you call iter() on an iterable\n",
        "  ->Keep track of current position or state\n",
        "  ->when no more elements, It raises stopIteration\n",
        "\n",
        "  #Analogy\n",
        "    #potato(iterable) >> it ccan't be cooked\n",
        "    #chop/wash >> ready for cooking >> iterator\n",
        "    #the process of cooking >> iteration\n",
        "\n",
        "  ex: my_list = \"PW\"\n",
        "      it = iter(my_list)   # create iterator\n",
        "\n",
        "      print(next(it))  # p\n",
        "      print(next(it))  # w\n",
        "      print(next(it))  #  iterator error\n",
        "\n",
        "\n",
        "```\n",
        "\n",
        "```\n",
        "6. Explain the concept of generators in Python and how they are defined.\n",
        "A. Generators also produces value one at a time like iterator and uses the\n",
        "   yield keyword instead of return.\n",
        "  It saves memory because it doesn't store all values in memory at one. Only produce them on demand.\n",
        "  Automatically creates iterator without need of __iter__(), __next__()\n",
        "\n",
        "  1)Generator Function\n",
        "   def square_number_generator(n):\n",
        "    for i in range(n):\n",
        "        yield i**2\n",
        "\n",
        "    \n",
        "   s = square_number_generator(3)\n",
        "\n",
        "  print(next(s))  # 0\n",
        "  print(next(s))  # 1\n",
        "  print(next(s))  # 4\n",
        "\n",
        " 2)Generator Expression\n",
        " -It is a one-liner similar to list comprehension but with parentheses. Both methods return a generator object that can be iterated using next() or loops.\n",
        " ->In Expression we will not use yield keyword\n",
        "\n",
        " squares = (x*x for x in range(5))\n",
        " print(next(squares))  # 0\n",
        " print(next(squares))  # 1\n",
        " print(list(squares))  # [4, 9, 16]\n",
        "\n",
        "```\n",
        "\n",
        "```\n",
        "7.  What are the advantages of using generators over regular functions?\n",
        "A. Advantages of Generators over Regular Functions\n",
        "   1)Memory Eficciency\n",
        "     --> Regular functions return the entire result at once, storing all values in memory\n",
        "     --> Generators produce one value at a time\n",
        "\n",
        "     example:\n",
        "     #If n = 1000000, the generator uses much less memory.\n",
        "\n",
        "     # Regular function (stores all)\n",
        "      def squares_list(n):\n",
        "        return [i*i for i in range(n)]\n",
        "\n",
        "    # Generator (yields one by one)\n",
        "      def squares_gen(n):\n",
        "        for i in range(n):\n",
        "          yield i*i\n",
        "\n",
        "    \n",
        "```\n",
        "\n",
        "```\n",
        "8. What is a lambda function in Python and when is it typically used?\n",
        "A. A lambda function is a small, anonymous (nameless) function in Python,\n",
        "   defined using the keyword lambda.\n",
        "   syntax:\n",
        "     lambda arguments : expression ex\n",
        "\n",
        "   example:\n",
        "       # using normal function\n",
        "      def square(x):\n",
        "        return x**2\n",
        "\n",
        "      square(2) #4\n",
        "\n",
        "      #using lamdba function\n",
        "      nums = [1, 2, 3, 4]\n",
        "      squares = list(map(lambda x: x**2, nums))\n",
        "      print(squares)  # [1, 4, 9, 16]\n",
        "\n",
        "\n",
        "   It is Typically used:\n",
        "  --> when need a short, throwaway function (not worth defining with def).\n",
        "  --> In combination with functional tools like map(), filter(), reduce().\n",
        "  --> For sorting or custom key functions.\n",
        "  --> In GUI or event-driven code where you pass small callback functions.\n",
        "\n",
        "```\n",
        "9. Explain the purpose and usage of the `map()` function in Python.\n",
        "A. The map() function is used to apply a function to every element of an\n",
        "   iterable (like a list, tuple, or string) and return a new map object\n",
        "   (iterator) with the results.\n",
        "\n",
        "   syntax: map(function, iterable, ...)\n",
        "   \n",
        "   example:\n",
        "     nums = [1,2,3,4]\n",
        "     double_nums = map(lambda x: x * 2, nums)\n",
        "     print(list(double_nums)) # [2,4,6,8] new list\n",
        "     print(num) #[1,2,3,4] map will not reflect on original array\n",
        "\n",
        "```\n",
        "\n",
        "```\n",
        "10. What is the difference between `map()`, `reduce()`, and `filter()`\n",
        "    functions in Python?\n",
        "A.\n",
        "    map():-\n",
        "         ->It applies a fuction to each and every element of an iterable\n",
        "         -> It returns new object of transformed elements\n",
        "          syntax: map(function, iterable)\n",
        "\n",
        "        ex: nums = [1,2,3,4,5]\n",
        "            square = map(lambda x: x**2, nums)\n",
        "            print(list(map)) #[1,4,9,16,25]\n",
        "            print(nums) #[1,2,3,4, 5] map will not reflect on original array\n",
        "\n",
        "   reduce():-\n",
        "             ->Repeatedly applies a function to elements of an iterable, reducing it to a single cumulative value.\n",
        "             -> It is not directly available method we can get it from\n",
        "             functools\n",
        "             \n",
        "             ex:\n",
        "             from functools import reduce\n",
        "\n",
        "             nums = [1, 2, 3, 4]\n",
        "             sum_all = reduce(lambda x, y: x + y, nums)\n",
        "             print(sum_all)  # 10\n",
        "\n",
        "   filter():-\n",
        "            -> It Applies function that return True/False to filter elements\n",
        "            -> Here iterator containing elements where function returned true\n",
        "            syntax: filter(function, iterable)\n",
        "            ex: nums = [2,4,6,23,29,28]\n",
        "                 even_nums = filter(lambda x: x%2 == 0, nums)\n",
        "                 print(list(even_nums)) #[2, 4, 6, 28]\n",
        "```\n",
        "\n",
        "```\n",
        "11.  Using pen & Paper write the internal mechanism for sum operation using  reduce function on this given\n",
        "list:[47,11,42,13]?\n",
        "A.https://github.com/Yamuna523/python-basics/blob/main/reduce_list_python.jpeg\n",
        "\n",
        "```\n",
        "\n",
        "\n",
        "\n",
        "\n",
        "\n",
        "\n",
        "\n",
        "\n",
        "                  \n",
        "\n"
      ],
      "metadata": {
        "id": "ZySFKXZ-lz8L"
      }
    },
    {
      "cell_type": "markdown",
      "source": [
        "# **Practical Questions:**"
      ],
      "metadata": {
        "id": "Ll-yaPTVyOER"
      }
    },
    {
      "cell_type": "code",
      "source": [
        "#1. Write a Python function that takes a list of numbers as input and returns the sum of all even numbers in\n",
        "#the list.\n",
        "from functools import reduce\n",
        "num_list = [2,3,4,17,23,29,30]\n",
        "#first filter even numbers using lambda function and filter method\n",
        "even_nums = filter(lambda x: x%2 == 0, num_list)\n",
        "#reduce using reduce method for that we need to import reduce from functool\n",
        "sum_even_nums = reduce(lambda x,y: x+y,even_nums)\n",
        "#print the sum\n",
        "print(sum_even_nums)"
      ],
      "metadata": {
        "colab": {
          "base_uri": "https://localhost:8080/"
        },
        "id": "FebMVfZmyNfn",
        "outputId": "4f236c17-b229-4a23-e809-79e99ea59f88"
      },
      "execution_count": null,
      "outputs": [
        {
          "output_type": "stream",
          "name": "stdout",
          "text": [
            "36\n"
          ]
        }
      ]
    },
    {
      "cell_type": "code",
      "source": [
        "#2. Create a Python function that accepts a string and returns the reverse of that string.\n",
        "def reverse_string(data):\n",
        "    data = str(data)\n",
        "    return data[::-1]\n",
        "\n",
        "print(reverse_string(\"yamuna\"))"
      ],
      "metadata": {
        "colab": {
          "base_uri": "https://localhost:8080/"
        },
        "id": "a7iGLRWk3PpY",
        "outputId": "d68c6724-e063-4813-8cb7-4161d729de8b"
      },
      "execution_count": null,
      "outputs": [
        {
          "output_type": "stream",
          "name": "stdout",
          "text": [
            "anumay\n"
          ]
        }
      ]
    },
    {
      "cell_type": "code",
      "source": [
        "#3.  Implement a Python function that takes a list of integers and returns a new list containing the squares of\n",
        "# each number.\n",
        "\n",
        "odd_nums = [1,3,7,9]\n",
        "square_odd_nums = map(lambda x: x**2, odd_nums)\n",
        "print(list(square_odd_nums))\n"
      ],
      "metadata": {
        "colab": {
          "base_uri": "https://localhost:8080/"
        },
        "id": "1PgcOlfH0pbc",
        "outputId": "1d3f3531-e54e-468c-ad1a-923f90ab11be"
      },
      "execution_count": null,
      "outputs": [
        {
          "output_type": "stream",
          "name": "stdout",
          "text": [
            "[1, 9, 49, 81]\n"
          ]
        }
      ]
    },
    {
      "cell_type": "code",
      "source": [
        "#4. Write a Python function that checks if a given number is prime or not from 1 to 200.\n",
        "def is_prime(n):\n",
        "    if n not in range(1,201):\n",
        "      return \"Please provide value from 1 to 200\"\n",
        "     #check if a number is prime\n",
        "    if n < 2:\n",
        "        return False\n",
        "    for i in range(2, int(n**0.5) + 1):  # check divisors up to sqrt(n)\n",
        "        if n % i == 0:\n",
        "            return False\n",
        "    return True\n",
        "\n",
        "print(is_prime(0))\n",
        "print(is_prime(1))\n",
        "print(is_prime(200))\n",
        "print(is_prime(29))\n",
        "print(is_prime(201))"
      ],
      "metadata": {
        "colab": {
          "base_uri": "https://localhost:8080/"
        },
        "id": "N94FDvX71wX_",
        "outputId": "947f3222-a449-4fdf-d7c8-08c1c21933da"
      },
      "execution_count": null,
      "outputs": [
        {
          "output_type": "stream",
          "name": "stdout",
          "text": [
            "Please provide value from 1 to 200\n",
            "False\n",
            "False\n",
            "True\n",
            "Please provide value from 1 to 200\n"
          ]
        }
      ]
    },
    {
      "cell_type": "code",
      "source": [
        "#5. Create an iterator class in Python that generates the Fibonacci sequence up to a specified number of\n",
        "#terms.\n",
        "\n",
        "fib = lambda n : n if n<=1 else fib(n-1)+fib(n-2)\n",
        "[fib(i) for i in range(11) ]\n",
        "\n"
      ],
      "metadata": {
        "colab": {
          "base_uri": "https://localhost:8080/"
        },
        "id": "YwgGIVJH3kux",
        "outputId": "fc5da1d2-d469-4bd8-e5db-f9df67c184a2"
      },
      "execution_count": null,
      "outputs": [
        {
          "output_type": "execute_result",
          "data": {
            "text/plain": [
              "[0, 1, 1, 2, 3, 5, 8, 13, 21, 34, 55]"
            ]
          },
          "metadata": {},
          "execution_count": 29
        }
      ]
    },
    {
      "cell_type": "code",
      "source": [
        "#6. Write a generator function in Python that yields the powers of 2 up to a given exponent.\n",
        "#using yield\n",
        "def power_of_2():\n",
        "  for i in range(10):\n",
        "    yield 2**i\n",
        "\n",
        "print(list(power_of_2()))\n",
        "\n",
        "# using expression\n",
        "generator_fn = lambda n: 2**n\n",
        "[generator_fn(i) for i in range(10)]\n"
      ],
      "metadata": {
        "colab": {
          "base_uri": "https://localhost:8080/"
        },
        "id": "MLX9dc2a_IWe",
        "outputId": "a2e924d4-dc9d-4fa8-83cb-5beb04062df5"
      },
      "execution_count": null,
      "outputs": [
        {
          "output_type": "stream",
          "name": "stdout",
          "text": [
            "[1, 2, 4, 8, 16, 32, 64, 128, 256, 512]\n"
          ]
        },
        {
          "output_type": "execute_result",
          "data": {
            "text/plain": [
              "[1, 2, 4, 8, 16, 32, 64, 128, 256, 512, 1024]"
            ]
          },
          "metadata": {},
          "execution_count": 37
        }
      ]
    },
    {
      "cell_type": "code",
      "source": [
        "#7. Implement a generator function that reads a file line by line and yields each line as a string\n",
        "# Create a sample text file in Colab\n",
        "import requests\n",
        "\n",
        "# Download sample.txt from my GitHub  Account and save it locally\n",
        "url = \"https://raw.githubusercontent.com/Yamuna523/python-basics/main/sample.txt\"\n",
        "response = requests.get(url)\n",
        "\n",
        "#with will closes the file automatically from github we are writing file to our local system\n",
        "with open(\"sample.txt\", \"w\") as f:\n",
        "    f.write(response.text)\n",
        "\n",
        "#Implement generator function to read file line by line\n",
        "def read_file_line_by_line(filepath):\n",
        "    \"\"\"Generator function that reads a file line by line and yields each line as a string.\"\"\"\n",
        "    with open(filepath, \"r\") as f:\n",
        "        for line in f:\n",
        "            yield line.strip() #will renove leading/trailing whitespace\n",
        "i = 1\n",
        "\n",
        "# using for loop we will print lines in sample.txt and using generator\n",
        "for line in read_file_line_by_line(\"sample.txt\"):\n",
        "    i+=1\n",
        "    print(f\"This is {i} line no\")\n",
        "    print(line)\n",
        "\n"
      ],
      "metadata": {
        "id": "KT7EMfXGCRYe",
        "colab": {
          "base_uri": "https://localhost:8080/"
        },
        "outputId": "e95219e3-ab88-4911-f80e-96205c9a2ea3"
      },
      "execution_count": 11,
      "outputs": [
        {
          "output_type": "stream",
          "name": "stdout",
          "text": [
            "This is 2 line no\n",
            "Hello python this is yamuna. Senior software consultant backend nodejs developer now I want to be data scientist\\n\n",
            "This is 3 line no\n",
            "I am learning Python and exploring data science step by step.\\n\n",
            "This is 4 line no\n",
            "Now I want change my role to became a datascientist\\n\n"
          ]
        }
      ]
    },
    {
      "cell_type": "code",
      "source": [
        "#8.  Use a lambda function in Python to sort a list of tuples based on the second element of each tuple\n",
        "my_tuple = [(29,6),(4,23),(26,2),(5,1)]\n",
        "\n",
        "sort_data = sorted(my_tuple, key = lambda x: x[1])\n",
        "print(sort_data)\n",
        "\n",
        "#using .sort method\n",
        "sort_data = my_tuple.sort(key = lambda x: x[1])\n",
        "print(my_tuple)"
      ],
      "metadata": {
        "colab": {
          "base_uri": "https://localhost:8080/"
        },
        "id": "nQ0VXmbfUY0L",
        "outputId": "a50f9bb2-47a6-4e6f-c0bf-507ef8f9e3e3"
      },
      "execution_count": 15,
      "outputs": [
        {
          "output_type": "stream",
          "name": "stdout",
          "text": [
            "[(5, 1), (26, 2), (29, 6), (4, 23)]\n",
            "[(5, 1), (26, 2), (29, 6), (4, 23)]\n"
          ]
        }
      ]
    },
    {
      "cell_type": "code",
      "source": [
        "#9. Write a Python program that uses `map()` to convert a list of temperatures from Celsius to Fahrenheit.\n",
        "\n",
        "celsius_temperatures = [25, 72, 27, 28]\n",
        "fahrenheit_temperatures = list(map(lambda c: (c * 9/5)+35, celsius_temperatures))\n",
        "\n",
        "print(fahrenheit_temperatures)\n"
      ],
      "metadata": {
        "colab": {
          "base_uri": "https://localhost:8080/"
        },
        "id": "4vTgcfqsXWQO",
        "outputId": "906a64ab-ad32-402d-d497-a22788c35fa9"
      },
      "execution_count": 17,
      "outputs": [
        {
          "output_type": "stream",
          "name": "stdout",
          "text": [
            "[80.0, 164.6, 83.6, 85.4]\n"
          ]
        }
      ]
    },
    {
      "cell_type": "code",
      "source": [
        "#10. Create a Python program that uses `filter()` to remove all the vowels from a given string.\n",
        "\n",
        "my_string_data = \"Hello Datascience\"\n",
        "vowels = \"aeiouAEIOU\"\n",
        "constants = filter(lambda c: c not in vowels, my_string_data)\n",
        "data = \"\".join(constants)\n",
        "print(data)\n"
      ],
      "metadata": {
        "colab": {
          "base_uri": "https://localhost:8080/"
        },
        "id": "O9k0SRKzbpTo",
        "outputId": "fb960ad7-67b6-4cd8-d7a0-f88b17fef66c"
      },
      "execution_count": 21,
      "outputs": [
        {
          "output_type": "stream",
          "name": "stdout",
          "text": [
            "Hll Dtscnc\n"
          ]
        }
      ]
    },
    {
      "cell_type": "code",
      "source": [
        "#11. Imagine an accounting routine used in a book shop. It works on a list with sublists, which look like this:#\n",
        "\n",
        "# order_no book_title_and_author                  quantity   price_per_item\n",
        "# 34587     learning python,marklutz                4            40.95\n",
        "# 98762     programming python,marklutz             5            56.80\n",
        "# 77226     head first python,paulbary              3            32.95\n",
        "# 88112     enfrunge in python 3,Bernd kerlin       3            24.99\n",
        "\n",
        "#Write a Python program, which returns a list with 2-tuples. Each tuple consists of the order number and the\n",
        "#product of the price per item and the quantity. The product should be increased by 10,- € if the value of the\n",
        "#order is smaller than 100,00 €.\n",
        "\n",
        "#Write a Python program using lambda and map.\n",
        "orders = [\n",
        "    [34587, \"learning python,marklutz\", 4, 40.95],\n",
        "    [98762, \"programming python,marklutz\", 5, 56.80],\n",
        "    [77226, \"head first python,paulbary\", 3, 32.95],\n",
        "    [88112, \"enfrunge in python 3,Bernd kerlin\", 3, 24.99]]\n",
        "\n",
        "#with lambda and map\n",
        "lambda_orders_data = list(map(lambda o: (o[0],  o[2]*o[3] if o[2]*o[3] > 10000  else o[2]*o[3]+10) , orders))\n",
        "print(lambda_orders_data)\n",
        "\n",
        "# another way without lambda and map:\n",
        "def cal_orders(order_data):\n",
        "  order_no, title, qnty, price = order_data\n",
        "  product_price = qnty * price\n",
        "  if product_price<10000:\n",
        "     product_price+=10\n",
        "  return (order_no, product_price)\n",
        "\n",
        "\n",
        "order_price_info = list(map(cal_orders, orders))\n",
        "\n",
        "print(order_price_info)\n",
        "\n"
      ],
      "metadata": {
        "colab": {
          "base_uri": "https://localhost:8080/"
        },
        "id": "pEd7VkDMcMVZ",
        "outputId": "5081461e-d54e-4c4f-8a18-5c602b1707bd"
      },
      "execution_count": 32,
      "outputs": [
        {
          "output_type": "stream",
          "name": "stdout",
          "text": [
            "[(34587, 173.8), (98762, 294.0), (77226, 108.85000000000001), (88112, 84.97)]\n",
            "[(34587, 173.8), (98762, 294.0), (77226, 108.85000000000001), (88112, 84.97)]\n"
          ]
        }
      ]
    },
    {
      "cell_type": "code",
      "source": [],
      "metadata": {
        "id": "brL8iAopfDZN"
      },
      "execution_count": null,
      "outputs": []
    }
  ]
}